{
 "cells": [
  {
   "cell_type": "code",
   "execution_count": 1,
   "metadata": {},
   "outputs": [
    {
     "name": "stdout",
     "output_type": "stream",
     "text": [
      "clear gpu embedding memory\n",
      "mode intfloat/multilingual-e5-large is selected!\n"
     ]
    },
    {
     "name": "stderr",
     "output_type": "stream",
     "text": [
      "No sentence-transformers model found with name C:\\Users\\zhang/.cache\\torch\\sentence_transformers\\intfloat_multilingual-e5-large. Creating a new one with MEAN pooling.\n"
     ]
    },
    {
     "data": {
      "application/vnd.jupyter.widget-view+json": {
       "model_id": "1d03acf453ae4a3e8d789c11ecd8f014",
       "version_major": 2,
       "version_minor": 0
      },
      "text/plain": [
       "FloatProgress(value=0.0, layout=Layout(width='auto'), style=ProgressStyle(bar_color='black'))"
      ]
     },
     "metadata": {},
     "output_type": "display_data"
    },
    {
     "name": "stdout",
     "output_type": "stream",
     "text": [
      "Running on local URL:  http://0.0.0.0:7860\n",
      "Running on public URL: https://78edfce1dee104683e.gradio.live\n",
      "\n",
      "This share link expires in 72 hours. For free permanent hosting and GPU upgrades, run `gradio deploy` from Terminal to deploy to Spaces (https://huggingface.co/spaces)\n"
     ]
    },
    {
     "data": {
      "text/html": [
       "<div><iframe src=\"https://78edfce1dee104683e.gradio.live\" width=\"100%\" height=\"500\" allow=\"autoplay; camera; microphone; clipboard-read; clipboard-write;\" frameborder=\"0\" allowfullscreen></iframe></div>"
      ],
      "text/plain": [
       "<IPython.core.display.HTML object>"
      ]
     },
     "metadata": {},
     "output_type": "display_data"
    },
    {
     "data": {
      "text/plain": []
     },
     "execution_count": 1,
     "metadata": {},
     "output_type": "execute_result"
    }
   ],
   "source": [
    "import gradio as gr\n",
    "import torch\n",
    "from langchain.embeddings import OpenAIEmbeddings\n",
    "from langchain.text_splitter import RecursiveCharacterTextSplitter\n",
    "from langchain.llms import OpenAI\n",
    "from langchain.chains import VectorDBQA\n",
    "from langchain.document_loaders import TextLoader\n",
    "from langchain.vectorstores import Chroma\n",
    "\n",
    "from langchain.embeddings import HuggingFaceEmbeddings\n",
    "\n",
    "from langchain.embeddings import HuggingFaceInstructEmbeddings\n",
    "\n",
    "vectordb = None\n",
    "hf = None\n",
    "def update(input):\n",
    "    global hf\n",
    "    global vectordb\n",
    "\n",
    "    model_select = 1\n",
    "    model_names = ['sentence-transformers/multi-qa-mpnet-base-dot-v1', # 0\n",
    "               'intfloat/multilingual-e5-large', # 1\n",
    "               'shibing624/text2vec-base-chinese', # 2\n",
    "               'hkunlp/instructor-large', # 3\n",
    "               'GanymedeNil/text2vec-large-chinese', # 4\n",
    "               'sentence-transformers/all-mpnet-base-v2', # 5\n",
    "               'shibing624/text2vec-base-chinese-paraphrase', # 6\n",
    "               ]\n",
    "    if input == 'mpnet':\n",
    "        model_select = 0\n",
    "    elif input == 'e5':\n",
    "        model_select = 1\n",
    "    elif input == 'shibing':\n",
    "        model_select = 2\n",
    "    elif input == 'all_mpnet':\n",
    "        model_select = 5\n",
    "    elif input == 'ganymedeNil':\n",
    "        model_select = 4\n",
    "    elif input == 'shibing_paraphrase':\n",
    "        model_select = 6\n",
    "\n",
    "    model_name = model_names[model_select]\n",
    "\n",
    "    if 'hf' in locals() or 'hf' in globals():\n",
    "        print('clear gpu embedding memory')\n",
    "        del hf\n",
    "        torch.cuda.empty_cache()\n",
    "\n",
    "    print(f'mode {model_name} is selected!')\n",
    "\n",
    "    model_kwargs = {'device': 'cuda'}\n",
    "    encode_kwargs = {'normalize_embeddings': True}\n",
    "    hf = HuggingFaceEmbeddings(\n",
    "        model_name=model_name,\n",
    "        model_kwargs=model_kwargs,\n",
    "        encode_kwargs=encode_kwargs\n",
    "    )\n",
    "\n",
    "    model_name_pre = model_name.split('/')[-1]\n",
    "    relative_path = '../'\n",
    "\n",
    "    model_name_pre = model_name.split('/')[-1]\n",
    "    parent_path = './test/'\n",
    "    persist_directory = parent_path + 'survey_db_'+model_name_pre+'_embedding'\n",
    "    persist_directory = relative_path + persist_directory\n",
    "\n",
    "\n",
    "    vectordb = Chroma(persist_directory=persist_directory, embedding_function=hf)\n",
    "\n",
    "    return f'load model {model_name} in {persist_directory}'\n",
    "    \n",
    "def greet(query):\n",
    "    ans = vectordb.similarity_search_with_score(query, k=5)\n",
    "    print(f'query is {query}')\n",
    "    return ans\n",
    "\n",
    "\n",
    "update('e5')\n",
    "\n",
    "# with gr.Blocks() as demo:\n",
    "#     with gr.Row():\n",
    "#         a = gr.Interface(fn=greet, inputs=\"text\", outputs=\"text\")\n",
    "\n",
    "with gr.Blocks() as demo:\n",
    "    model_selected = gr.Dropdown(['mpnet','e5','shibing','all_mpnet','ganymedeNil','shibing_paraphrase'])\n",
    "    refresh_button = gr.Button('refresh')\n",
    "    refresh_button.click(fn=update,inputs=model_selected, outputs=gr.Textbox())\n",
    "    with gr.Row():\n",
    "        gr.Interface(fn=greet, inputs=\"text\", outputs=[\"text\",\n",
    "                                                           \"text\",\n",
    "                                                           \"text\",\n",
    "                                                           \"text\",\n",
    "                                                           \"text\",])\n",
    "    \n",
    "demo.launch(server_name=\"0.0.0.0\",share=True)   "
   ]
  },
  {
   "cell_type": "code",
   "execution_count": null,
   "metadata": {},
   "outputs": [],
   "source": [
    "vectordb.get(where={\"name\":\"寒武纪\"})"
   ]
  },
  {
   "cell_type": "code",
   "execution_count": null,
   "metadata": {},
   "outputs": [],
   "source": [
    "vectordb.similarity_search_with_score('智能加速卡',k=1,filter={\"name\":\"寒武纪\"})"
   ]
  },
  {
   "cell_type": "code",
   "execution_count": null,
   "metadata": {},
   "outputs": [],
   "source": []
  },
  {
   "cell_type": "code",
   "execution_count": null,
   "metadata": {},
   "outputs": [],
   "source": []
  }
 ],
 "metadata": {
  "kernelspec": {
   "display_name": "base",
   "language": "python",
   "name": "python3"
  },
  "language_info": {
   "codemirror_mode": {
    "name": "ipython",
    "version": 3
   },
   "file_extension": ".py",
   "mimetype": "text/x-python",
   "name": "python",
   "nbconvert_exporter": "python",
   "pygments_lexer": "ipython3",
   "version": "3.10.9"
  },
  "orig_nbformat": 4
 },
 "nbformat": 4,
 "nbformat_minor": 2
}
