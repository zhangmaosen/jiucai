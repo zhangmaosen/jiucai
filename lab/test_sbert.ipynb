{
 "cells": [
  {
   "cell_type": "code",
   "execution_count": 17,
   "metadata": {},
   "outputs": [
    {
     "data": {
      "text/plain": [
       "tensor([[0.9789]])"
      ]
     },
     "execution_count": 17,
     "metadata": {},
     "output_type": "execute_result"
    }
   ],
   "source": [
    "from sentence_transformers import SentenceTransformer, util\n",
    "embedder = SentenceTransformer('multi-qa-mpnet-base-cos-v1')\n",
    "embeddings = embedder.encode(['建筑研究设计业务简介', '建筑研究设计业务介绍', '创新药', '减肥药', '减肥创新药'])\n",
    "util.cos_sim(embeddings[2], embeddings[4])"
   ]
  },
  {
   "cell_type": "code",
   "execution_count": 3,
   "metadata": {},
   "outputs": [],
   "source": [
    "from sentence_transformers import SentenceTransformer, util"
   ]
  },
  {
   "cell_type": "code",
   "execution_count": 5,
   "metadata": {},
   "outputs": [
    {
     "name": "stderr",
     "output_type": "stream",
     "text": [
      "No sentence-transformers model found with name C:\\Users\\zhang/.cache\\torch\\sentence_transformers\\hfl_chinese-lert-large. Creating a new one with MEAN pooling.\n",
      "Some weights of the model checkpoint at C:\\Users\\zhang/.cache\\torch\\sentence_transformers\\hfl_chinese-lert-large were not used when initializing BertModel: ['cls.predictions.bias', 'cls.predictions.decoder.weight', 'cls.predictions.transform.LayerNorm.weight', 'cls.predictions.transform.dense.bias', 'cls.seq_relationship.bias', 'cls.predictions.decoder.bias', 'cls.seq_relationship.weight', 'cls.predictions.transform.LayerNorm.bias', 'cls.predictions.transform.dense.weight']\n",
      "- This IS expected if you are initializing BertModel from the checkpoint of a model trained on another task or with another architecture (e.g. initializing a BertForSequenceClassification model from a BertForPreTraining model).\n",
      "- This IS NOT expected if you are initializing BertModel from the checkpoint of a model that you expect to be exactly identical (initializing a BertForSequenceClassification model from a BertForSequenceClassification model).\n"
     ]
    },
    {
     "data": {
      "text/plain": [
       "tensor([[0.5082]])"
      ]
     },
     "execution_count": 5,
     "metadata": {},
     "output_type": "execute_result"
    }
   ],
   "source": [
    "from sentence_transformers import SentenceTransformer\n",
    "model = SentenceTransformer('hfl/chinese-lert-large')\n",
    "embeddings = model.encode(['建筑研究设计业务简介', '建筑研究设计业务介绍', '创新药', '减肥药', '减肥创新药'])\n",
    "util.cos_sim(embeddings[2], embeddings[3])"
   ]
  },
  {
   "cell_type": "code",
   "execution_count": 6,
   "metadata": {},
   "outputs": [],
   "source": [
    "txt = '建筑研究设计业务简介建筑研究设计业务简介建筑研究设计业务简介建筑研究设计业务简介建筑研究设计业务简介建筑研究设计业务简介建筑研究设计业务简介建筑研究设计业务简介建筑研究设计业务简介建筑研究设计业务简介建筑研究设计业务简介建筑研究设计业务简介建筑研究设计业务简介建筑研究设计业务简介建筑研究设计业务简介建筑研究设计业务简介建筑研究设计业务简介建筑研究设计业务简介建筑研究设计业务简介建筑研究设计业务简介建筑研究设计业务简介建筑研究设计业务简介建筑研究设计业务简介建筑研究设计业务简介建筑研究设计业务简介建筑研究设计业务简介建筑研究设计业务简介建筑研究设计业务简介建筑研究设计业务简介建筑研究设计业务简介建筑研究设计业务简介建筑研究设计业务简介建筑研究设计业务简介建筑研究设计业务简介建筑研究设计业务简介建筑研究设计业务简介建筑研究设计业务简介建筑研究设计业务简介建筑研究设计业务简介建筑研究设计业务简介建筑研究设计业务简介建筑研究设计业务简介建筑研究设计业务简介建筑研究设计业务简介建筑研究设计业务简介建筑研究设计业务简介建筑研究设计业务简介建筑研究设计业务简介建筑研究设计业务简介建筑研究设计业务简介建筑研究设计业务简介建筑研究设计业务简介建筑研究设计业务简介建筑研究设计业务简介建筑研究设计业务简介建筑研究设计业务简介建筑研究设计业务简介建筑研究设计业务简介建筑研究设计业务简介'"
   ]
  },
  {
   "cell_type": "code",
   "execution_count": 8,
   "metadata": {},
   "outputs": [
    {
     "data": {
      "text/plain": [
       "590"
      ]
     },
     "execution_count": 8,
     "metadata": {},
     "output_type": "execute_result"
    }
   ],
   "source": [
    "len(txt)"
   ]
  },
  {
   "cell_type": "code",
   "execution_count": 9,
   "metadata": {},
   "outputs": [
    {
     "data": {
      "text/plain": [
       "array([[ 0.29764205,  0.04209402, -0.685105  , ...,  0.0638087 ,\n",
       "        -0.33498967, -0.5823569 ]], dtype=float32)"
      ]
     },
     "execution_count": 9,
     "metadata": {},
     "output_type": "execute_result"
    }
   ],
   "source": [
    "model.encode([txt])"
   ]
  },
  {
   "cell_type": "code",
   "execution_count": 23,
   "metadata": {},
   "outputs": [],
   "source": [
    "txt1 = txt\n",
    "txt2 = txt[0:512\n",
    "           ]"
   ]
  },
  {
   "cell_type": "code",
   "execution_count": 11,
   "metadata": {},
   "outputs": [
    {
     "data": {
      "text/plain": [
       "'建筑研究设计业务简介建筑研究设计业务简介建筑研究设计业务简介建筑研究设计业务简介建筑研究设计业务简介建筑研究设计业务简介建筑研究设计业务简介建筑研究设计业务简介建筑研究设计业务简介建筑研究设计业务简介建筑研究设计业务简介建筑研究设计业务简介建筑研究设计业务简介建筑研究设计业务简介建筑研究设计业务简介建筑研究设计业务简介建筑研究设计业务简介建筑研究设计业务简介建筑研究设计业务简介建筑研究设计业务简介建筑研究设计业务简介建筑研究设计业务简介建筑研究设计业务简介建筑研究设计业务简介建筑研究设计业务简介建筑研究设计业务简介建筑研究设计业务简介建筑研究设计业务简介建筑研究设计业务简介建筑研究设计业务简介'"
      ]
     },
     "execution_count": 11,
     "metadata": {},
     "output_type": "execute_result"
    }
   ],
   "source": [
    "txt2"
   ]
  },
  {
   "cell_type": "code",
   "execution_count": 24,
   "metadata": {},
   "outputs": [],
   "source": [
    "embeddings = model.encode([txt1, txt2])"
   ]
  },
  {
   "cell_type": "code",
   "execution_count": 25,
   "metadata": {},
   "outputs": [
    {
     "data": {
      "text/plain": [
       "array([[ 0.29764304,  0.04209512, -0.68510437, ...,  0.0638092 ,\n",
       "        -0.33499005, -0.58235806],\n",
       "       [ 0.29764304,  0.04209512, -0.68510437, ...,  0.0638092 ,\n",
       "        -0.33499005, -0.58235806]], dtype=float32)"
      ]
     },
     "execution_count": 25,
     "metadata": {},
     "output_type": "execute_result"
    }
   ],
   "source": [
    "embeddings"
   ]
  },
  {
   "cell_type": "code",
   "execution_count": null,
   "metadata": {},
   "outputs": [],
   "source": []
  }
 ],
 "metadata": {
  "kernelspec": {
   "display_name": "base",
   "language": "python",
   "name": "python3"
  },
  "language_info": {
   "codemirror_mode": {
    "name": "ipython",
    "version": 3
   },
   "file_extension": ".py",
   "mimetype": "text/x-python",
   "name": "python",
   "nbconvert_exporter": "python",
   "pygments_lexer": "ipython3",
   "version": "3.10.9"
  },
  "orig_nbformat": 4
 },
 "nbformat": 4,
 "nbformat_minor": 2
}
