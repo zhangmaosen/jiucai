{
 "cells": [
  {
   "cell_type": "code",
   "execution_count": 123,
   "metadata": {},
   "outputs": [
    {
     "name": "stderr",
     "output_type": "stream",
     "text": [
      "No sentence-transformers model found with name C:\\Users\\zhang/.cache\\torch\\sentence_transformers\\bert-base-uncased. Creating a new one with MEAN pooling.\n",
      "Some weights of the model checkpoint at C:\\Users\\zhang/.cache\\torch\\sentence_transformers\\bert-base-uncased were not used when initializing BertModel: ['cls.seq_relationship.weight', 'cls.predictions.bias', 'cls.seq_relationship.bias', 'cls.predictions.transform.dense.weight', 'cls.predictions.transform.LayerNorm.bias', 'cls.predictions.transform.LayerNorm.weight', 'cls.predictions.transform.dense.bias']\n",
      "- This IS expected if you are initializing BertModel from the checkpoint of a model trained on another task or with another architecture (e.g. initializing a BertForSequenceClassification model from a BertForPreTraining model).\n",
      "- This IS NOT expected if you are initializing BertModel from the checkpoint of a model that you expect to be exactly identical (initializing a BertForSequenceClassification model from a BertForSequenceClassification model).\n"
     ]
    },
    {
     "data": {
      "text/plain": [
       "array([[ 0.3638416 , -0.13477425,  0.27147916, ...,  0.04643966,\n",
       "         0.12041181, -0.2692544 ],\n",
       "       [ 0.3969208 ,  0.39840183, -0.1832365 , ...,  0.02379899,\n",
       "         0.12969068, -0.17836808],\n",
       "       [-0.26810533, -0.4157281 , -0.6886069 , ..., -0.18216844,\n",
       "         0.28356558, -0.32558632],\n",
       "       [-0.29215667,  0.32923082, -0.29315162, ..., -0.09606687,\n",
       "         0.21048804, -0.4414701 ],\n",
       "       [-0.25887814, -0.11097252, -0.572362  , ..., -0.36557144,\n",
       "         0.4536295 , -0.41667572]], dtype=float32)"
      ]
     },
     "execution_count": 123,
     "metadata": {},
     "output_type": "execute_result"
    }
   ],
   "source": [
    "from sentence_transformers import SentenceTransformer, util\n",
    "embedder = SentenceTransformer('bert-base-uncased')\n",
    "#embedder = SentenceTransformer('xlm-roberta-base')\n",
    "embedder.encode(['I like NY', 'I hate NY', '创新药', '减肥药', '减肥创新药'])\n"
   ]
  },
  {
   "cell_type": "code",
   "execution_count": 119,
   "metadata": {},
   "outputs": [
    {
     "name": "stderr",
     "output_type": "stream",
     "text": [
      "Some weights of the model checkpoint at bert-base-uncased were not used when initializing BertModel: ['cls.seq_relationship.weight', 'cls.predictions.bias', 'cls.seq_relationship.bias', 'cls.predictions.transform.dense.weight', 'cls.predictions.transform.LayerNorm.bias', 'cls.predictions.transform.LayerNorm.weight', 'cls.predictions.transform.dense.bias']\n",
      "- This IS expected if you are initializing BertModel from the checkpoint of a model trained on another task or with another architecture (e.g. initializing a BertForSequenceClassification model from a BertForPreTraining model).\n",
      "- This IS NOT expected if you are initializing BertModel from the checkpoint of a model that you expect to be exactly identical (initializing a BertForSequenceClassification model from a BertForSequenceClassification model).\n"
     ]
    }
   ],
   "source": [
    "from sentence_transformers import SentenceTransformer, models\n",
    "\n",
    "word_embedding_model = models.Transformer('bert-base-uncased', max_seq_length=256)\n",
    "pooling_model = models.Pooling(word_embedding_model.get_word_embedding_dimension())\n",
    "\n",
    "model = SentenceTransformer(modules=[word_embedding_model, pooling_model])"
   ]
  },
  {
   "cell_type": "code",
   "execution_count": 122,
   "metadata": {},
   "outputs": [
    {
     "data": {
      "text/plain": [
       "array([[ 0.3638416 , -0.13477425,  0.27147916, ...,  0.04643966,\n",
       "         0.12041181, -0.2692544 ],\n",
       "       [ 0.42483464,  0.24477325,  0.21232511, ..., -0.00933655,\n",
       "         0.00841086, -0.0873777 ],\n",
       "       [-0.26810533, -0.4157281 , -0.6886069 , ..., -0.18216844,\n",
       "         0.28356558, -0.32558632],\n",
       "       [-0.29215667,  0.32923082, -0.29315162, ..., -0.09606687,\n",
       "         0.21048804, -0.4414701 ],\n",
       "       [-0.25887814, -0.11097252, -0.572362  , ..., -0.36557144,\n",
       "         0.4536295 , -0.41667572]], dtype=float32)"
      ]
     },
     "execution_count": 122,
     "metadata": {},
     "output_type": "execute_result"
    }
   ],
   "source": [
    "model.encode(['I like NY', 'I don\\'t like NY', '创新药', '减肥药', '减肥创新药'])"
   ]
  },
  {
   "cell_type": "code",
   "execution_count": 118,
   "metadata": {},
   "outputs": [
    {
     "name": "stderr",
     "output_type": "stream",
     "text": [
      "Some weights of the model checkpoint at bert-base-cased were not used when initializing BertModel: ['cls.seq_relationship.weight', 'cls.predictions.bias', 'cls.seq_relationship.bias', 'cls.predictions.transform.dense.weight', 'cls.predictions.transform.LayerNorm.bias', 'cls.predictions.transform.LayerNorm.weight', 'cls.predictions.transform.dense.bias']\n",
      "- This IS expected if you are initializing BertModel from the checkpoint of a model trained on another task or with another architecture (e.g. initializing a BertForSequenceClassification model from a BertForPreTraining model).\n",
      "- This IS NOT expected if you are initializing BertModel from the checkpoint of a model that you expect to be exactly identical (initializing a BertForSequenceClassification model from a BertForSequenceClassification model).\n"
     ]
    },
    {
     "name": "stdout",
     "output_type": "stream",
     "text": [
      "BaseModelOutputWithPoolingAndCrossAttentions(last_hidden_state=tensor([[[ 0.7369, -0.0315, -0.0613,  ...,  0.1930,  0.3179,  0.0654],\n",
      "         [ 0.7351, -0.4564,  0.5336,  ..., -0.0062,  0.2005,  0.2143],\n",
      "         [ 0.8442, -0.4467, -0.2445,  ...,  0.5577, -0.3054,  0.1581],\n",
      "         [ 0.2475,  0.1469, -0.0318,  ..., -0.1668,  0.4281,  0.1386],\n",
      "         [ 1.1829,  0.2680,  0.3065,  ...,  0.0722,  0.8470,  0.3442]]],\n",
      "       grad_fn=<NativeLayerNormBackward0>), pooler_output=tensor([[-0.8799,  0.5800,  1.0000, -0.9974,  0.9830,  0.7301,  0.9940, -0.9496,\n",
      "         -0.9835, -0.7561,  0.9921,  0.9994, -0.9915, -1.0000,  0.5549, -0.9903,\n",
      "          0.9964, -0.7028, -1.0000, -0.7424,  0.1131, -1.0000,  0.4677,  0.9442,\n",
      "          0.9923,  0.0012,  0.9957,  1.0000,  0.9375,  0.1314,  0.5141, -0.9963,\n",
      "          0.6019, -0.9998,  0.3528, -0.1596,  0.6345, -0.4697,  0.3719, -0.8815,\n",
      "         -0.7958, -0.4907,  0.6267, -0.7074,  0.8042,  0.4721,  0.2704, -0.0311,\n",
      "         -0.4320,  1.0000, -0.9849,  1.0000, -0.9722,  0.9998,  0.9976,  0.6214,\n",
      "          0.9976,  0.2805, -0.9861,  0.5497,  0.9826,  0.0076,  0.9502, -0.5223,\n",
      "         -0.2848, -0.5305, -0.8701,  0.4124, -0.6057,  0.5352,  0.5362,  0.5446,\n",
      "          0.9946, -0.9364, -0.1727, -0.9488,  0.6062, -1.0000,  0.9784,  1.0000,\n",
      "          0.4219, -0.9999,  0.9978, -0.5107, -0.3240, -0.2261, -0.9943, -0.9999,\n",
      "          0.1104, -0.7616,  0.7638, -0.9947, -0.1620, -0.6363,  1.0000, -0.8761,\n",
      "         -0.2920,  0.5036,  0.6980, -0.2099, -0.8473,  0.6899,  0.9945, -0.9758,\n",
      "          0.9907,  0.2292, -0.9654, -0.7415,  0.2661,  0.3054,  0.9954, -0.9968,\n",
      "         -0.3916,  0.2195,  0.8953, -0.8278,  0.9954,  0.8468, -0.4368,  1.0000,\n",
      "         -0.3948,  0.9402,  0.9995,  0.6503, -0.5035, -0.5235, -0.0316,  0.7314,\n",
      "         -0.0853, -0.5755,  0.8611, -0.9959, -0.9895,  0.9998, -0.4045,  1.0000,\n",
      "         -0.9997,  0.9546, -1.0000, -0.5340, -0.1810, -0.1479, -0.9668,  0.5250,\n",
      "          0.9964,  0.2205, -0.6622, -0.3367,  0.3247, -0.6071,  0.6414,  0.8238,\n",
      "         -0.9757,  1.0000,  0.9848,  0.8073,  0.9310,  0.3228, -0.8844,  0.7875,\n",
      "          0.9920, -0.9999,  0.5253, -0.9483,  0.9999,  0.9881,  0.5301, -0.9750,\n",
      "          1.0000, -0.0720,  0.1531, -0.2816, -0.3691, -0.9955,  0.6055,  0.6099,\n",
      "          0.8630,  0.9999, -0.9976,  1.0000,  0.9992, -0.2353,  0.8450,  0.9916,\n",
      "         -0.9982, -0.9892, -0.9941,  0.5602,  0.2237,  0.5687,  0.0711,  0.9871,\n",
      "          0.9929,  0.7986, -0.9997, -0.5147,  0.9911, -0.3015,  1.0000,  0.5296,\n",
      "         -1.0000, -0.6403,  0.7933,  0.9927, -0.4443,  0.9913, -0.2451,  0.0143,\n",
      "          0.9246, -1.0000,  0.9891, -0.3949,  0.4130,  0.9534,  0.9970, -0.6969,\n",
      "         -0.2852,  0.3952, -0.3986,  1.0000, -0.9999, -0.4734,  0.7460, -0.9985,\n",
      "         -0.9991,  0.9899, -0.2254, -0.3997, -0.3541, -0.3983,  0.3052,  0.8094,\n",
      "          0.9960, -0.2961,  0.0134, -1.0000, -0.9873, -0.9278, -0.9038,  0.1952,\n",
      "          0.7781, -0.5319, -0.9715, -0.9901,  0.9832,  0.6020, -0.8150, -0.3210,\n",
      "         -0.2312, -0.9925,  0.2771, -0.7341, -0.9998,  0.9999, -0.3670,  0.9732,\n",
      "          0.9881, -0.9981,  0.2403, -0.9932, -0.0907, -1.0000,  0.0233, -0.1989,\n",
      "         -0.2926, -0.2347,  0.9973, -0.9839, -0.1762,  0.7741, -1.0000,  0.9593,\n",
      "         -0.3949,  0.9997,  0.7164,  0.4223,  0.9940,  0.8162, -0.9952, -1.0000,\n",
      "          0.9019,  0.9998, -0.9977, -0.3332,  1.0000, -0.9912, -0.8836, -0.9724,\n",
      "         -0.9976, -0.9999, -0.0487, -0.6804,  0.0221,  0.9933, -0.0393, -0.1007,\n",
      "          0.9971,  0.9997,  0.0514,  0.1037,  0.2495, -0.9893, -0.9999,  0.4245,\n",
      "          0.2630, -1.0000,  1.0000, -0.9977,  1.0000,  0.8132, -0.9562,  0.9020,\n",
      "         -0.0842, -0.8886,  0.0865,  1.0000,  0.9876, -0.3521,  0.4076,  0.7450,\n",
      "          0.1445, -0.0528, -0.4980, -0.2548,  0.3395, -0.9697,  0.9779,  0.4365,\n",
      "         -0.9962,  0.9842,  0.3888,  0.8662, -0.6743,  0.9250,  0.9953, -0.2644,\n",
      "          0.0884, -0.1962, -0.9930, -0.9142,  0.3124, -0.9888,  0.0460,  0.8998,\n",
      "          0.9919, -0.9923,  0.9998, -0.3220,  0.8159, -0.9881,  1.0000, -0.9997,\n",
      "          0.2922,  0.5806, -0.8756, -0.0547,  0.9961,  0.9536,  0.9224, -0.8788,\n",
      "         -0.4706,  0.9194,  0.9870, -0.9729,  0.0057, -0.9956, -0.3518,  0.9990,\n",
      "          0.9665, -0.1902, -0.6714, -0.9914,  0.9836, -0.6148, -0.7579, -0.2796,\n",
      "         -0.4670,  0.1875,  0.9900, -0.0735,  0.4810,  0.3518, -0.9949,  0.6418,\n",
      "          0.5788,  1.0000, -0.9880,  0.2079,  0.9945, -0.3141, -0.4645,  0.7541,\n",
      "          0.9917, -0.9774, -0.3494, -0.9999,  0.0267, -0.8306,  0.1036, -0.2613,\n",
      "          0.1652, -0.6981,  0.9043, -0.0742,  0.8154, -0.1872,  0.9877, -0.1426,\n",
      "         -0.1241, -0.5421,  0.4424,  0.5782,  0.0312,  0.9901, -0.9850,  1.0000,\n",
      "         -0.4953, -1.0000, -0.9874, -0.4701, -1.0000,  0.4494, -0.9996,  0.9935,\n",
      "          0.7790, -0.9934, -0.9945, -0.9998, -1.0000,  0.6882,  0.3250, -0.2374,\n",
      "         -0.3194,  0.9889,  0.1588,  0.0290, -0.3619, -0.9646, -0.0850, -0.9920,\n",
      "          0.6451, -1.0000, -0.2533,  0.9906, -0.9799, -0.9451, -0.9641, -0.3802,\n",
      "         -0.8975,  0.5862,  0.9955,  0.0774, -0.4682, -1.0000,  0.9952, -0.7337,\n",
      "          0.2874, -0.4607, -0.9898,  0.9999,  0.5746,  0.1115, -0.2672, -0.9998,\n",
      "          0.9635, -0.9167, -0.8528, -0.9903,  0.4854, -0.9818, -1.0000,  0.3540,\n",
      "          0.9808,  0.9997,  0.9902,  0.4837, -0.6245, -0.9750,  0.3662, -1.0000,\n",
      "          0.2468,  0.5466, -0.9918, -0.4492,  0.9962,  0.9889, -0.8798, -0.9657,\n",
      "          0.6511,  0.7064,  0.9863,  0.0249, -0.7182,  0.5243, -0.2069, -0.9961,\n",
      "         -0.9676,  0.9977, -0.9942,  0.9906,  0.9860,  0.9936,  0.2216, -0.1999,\n",
      "         -0.9774, -0.9999, -0.7262,  0.0752, -1.0000,  1.0000, -1.0000,  0.2923,\n",
      "          0.2053,  0.5930,  0.9956, -0.1017, -1.0000, -1.0000,  0.4174, -0.1595,\n",
      "          0.9962,  0.0471,  0.4785, -0.4371, -0.1404,  0.9992, -0.8315, -0.1493,\n",
      "         -0.9925,  0.9999,  0.7602, -0.9992,  0.9796, -0.9999,  0.6146,  0.9896,\n",
      "          0.9448,  0.9926, -0.9939,  1.0000, -1.0000,  0.9998, -1.0000, -0.9932,\n",
      "          1.0000, -0.9955, -0.4124, -0.9999, -0.9906,  0.3296,  0.3207, -0.6862,\n",
      "          0.9950, -1.0000, -0.9995,  0.5768, -0.8906, -0.5507,  0.9804, -0.2595,\n",
      "          0.9954,  0.1369,  0.9802, -0.0887,  0.9867,  1.0000, -0.5512, -0.3955,\n",
      "         -0.9971,  0.9963, -0.5178,  0.5010,  0.9772, -0.1804, -0.1352,  0.7035,\n",
      "         -0.9989,  0.3936, -0.8981,  0.4241,  0.8437,  0.9007,  0.2407, -0.3297,\n",
      "          0.0171, -0.9964,  0.7311, -0.9999,  0.9916, -0.8610,  0.2898, -0.6237,\n",
      "          0.7243, -0.9762,  0.9999,  0.9996, -1.0000,  0.3062,  0.9942, -0.3762,\n",
      "          0.9902, -0.9976, -0.2476,  0.8643, -0.8802,  0.9946,  0.4314, -0.3774,\n",
      "          0.9842, -0.9982, -0.7644, -0.8415,  0.1384,  0.1461, -0.9885,  0.2671,\n",
      "          0.9542, -0.0159, -0.9999,  0.8659, -0.9998, -0.3338,  0.9915,  0.2549,\n",
      "          1.0000, -0.4715,  0.0044, -0.0468, -0.9999, -0.9940,  0.3046, -0.2922,\n",
      "         -0.9644,  0.9959,  0.0891,  0.7450, -1.0000,  0.5568,  0.9845,  0.5377,\n",
      "          0.8866, -0.5250, -0.9881, -0.9313, -0.8600,  0.2073,  0.7002, -0.9834,\n",
      "         -0.6129, -0.5744,  1.0000, -0.9989, -0.9548, -0.9951,  0.5808,  0.6881,\n",
      "          0.5819,  0.1750, -0.7485,  0.8001, -0.8022,  0.9990, -0.9981, -0.9983,\n",
      "          1.0000,  0.1878, -0.9664, -0.4318, -0.5139, -0.0580, -0.0265,  0.1591,\n",
      "         -0.9276, -0.4139, -0.9998,  0.3995, -0.6415, -0.9954, -0.7763, -0.6298,\n",
      "         -1.0000,  0.9978,  0.9888,  1.0000, -1.0000,  0.9294,  0.3092,  0.9997,\n",
      "          0.0642, -0.7848,  0.7316,  1.0000, -0.4356,  0.6515, -0.0151, -0.2335,\n",
      "          0.1348, -0.6915,  0.9785, -0.9129,  0.3881, -0.9902, -1.0000,  1.0000,\n",
      "         -0.2214,  0.9958,  0.5353,  0.4066, -0.9279,  0.9523, -0.9279, -0.9630,\n",
      "         -1.0000,  0.3908, -1.0000, -0.9959,  0.3243,  0.9939, -0.9999, -0.9959,\n",
      "         -0.2784, -1.0000,  0.8567, -0.9750, -0.5133, -0.9934,  0.9906, -0.4868,\n",
      "          0.0889,  0.9876, -0.9878,  0.7789,  0.9178,  0.9349,  0.3961,  0.3191,\n",
      "         -0.7097, -0.9784, -0.7644, -0.9824,  0.8285, -0.9940, -0.9062,  0.9990,\n",
      "          0.9957, -0.9998, -0.9986,  0.9820, -0.5089,  0.9958, -0.6184, -1.0000,\n",
      "         -1.0000,  0.3021, -0.2892,  0.9974, -0.5212,  1.0000,  0.8799, -0.0143,\n",
      "          0.1573, -0.0141,  0.0931, -0.2197, -0.4712,  1.0000, -0.4321,  0.9938]],\n",
      "       grad_fn=<TanhBackward0>), hidden_states=None, past_key_values=None, attentions=None, cross_attentions=None)\n"
     ]
    }
   ],
   "source": [
    "from transformers import BertTokenizer, BertModel\n",
    "tokenizer = BertTokenizer.from_pretrained('bert-base-cased')\n",
    "model = BertModel.from_pretrained(\"bert-base-cased\")\n",
    "text_1 = \"I like NY\"\n",
    "encoded_text = tokenizer(text_1, return_tensors='pt')\n",
    "output = model(**encoded_text)\n",
    "print(output)"
   ]
  },
  {
   "cell_type": "code",
   "execution_count": 111,
   "metadata": {},
   "outputs": [
    {
     "data": {
      "image/png": "[encoded data removed]",
      "text/plain": [
       "<Figure size 640x480 with 1 Axes>"
      ]
     },
     "metadata": {},
     "output_type": "display_data"
    },
    {
     "data": {
      "text/plain": [
       "tensor([[0.9231]])"
      ]
     },
     "execution_count": 111,
     "metadata": {},
     "output_type": "execute_result"
    }
   ],
   "source": [
    "embeddings = embedder.encode(['  ', ' ', 'This IS expected if you are initializing BertModel from the checkpoint of a model trained on another task or with', '减肥药', '减肥创新药'])\n",
    "util.cos_sim(embeddings[0], embeddings[1])\n",
    "\n",
    "import matplotlib.pyplot as plt\n",
    "#plt.plot(embeddings[0])\n",
    "plt.plot(embeddings[1])\n",
    "#plt.plot(embeddings[2])\n",
    "plt.show()\n",
    "util.cos_sim(embeddings[1], embeddings[2])"
   ]
  },
  {
   "cell_type": "code",
   "execution_count": 71,
   "metadata": {},
   "outputs": [
    {
     "data": {
      "text/plain": [
       "tensor([[0.7020]])"
      ]
     },
     "execution_count": 71,
     "metadata": {},
     "output_type": "execute_result"
    }
   ],
   "source": [
    "embeddings = embedder.encode(['BERT is a transformers model pretrained on a large corpus of English data in a self-supervised fashion. This means it was pretrained on the raw texts only, with no humans labeling them in any way (which is why it can use lots of publicly available data) with an automatic process to generate inputs and labels from those texts. More precisely, it was pretrained with two objectives', 'Just arrived in Honolulu for #ICML2023 this week! I will be presenting our work on consistency models this Wednesday, and participating in a panel discussion at the SPIGM workshop this Friday. Feel free to DM me if you would like to meet up!'])\n",
    "util.cos_sim(embeddings[0], embeddings[1])"
   ]
  },
  {
   "cell_type": "code",
   "execution_count": 9,
   "metadata": {},
   "outputs": [
    {
     "name": "stderr",
     "output_type": "stream",
     "text": [
      "No sentence-transformers model found with name D:\\models\\FinBERT_L-12_H-768_A-12_pytorch\\FinBERT_L-12_H-768_A-12_pytorch. Creating a new one with MEAN pooling.\n",
      "Some weights of the model checkpoint at D:\\models\\FinBERT_L-12_H-768_A-12_pytorch\\FinBERT_L-12_H-768_A-12_pytorch were not used when initializing BertModel: ['cls.seq_relationship.weight', 'cls.predictions.bias', 'cls.predictions.decoder.weight', 'cls.seq_relationship.bias', 'cls.predictions.transform.dense.weight', 'cls.predictions.transform.LayerNorm.bias', 'cls.predictions.transform.LayerNorm.weight', 'cls.predictions.transform.dense.bias']\n",
      "- This IS expected if you are initializing BertModel from the checkpoint of a model trained on another task or with another architecture (e.g. initializing a BertForSequenceClassification model from a BertForPreTraining model).\n",
      "- This IS NOT expected if you are initializing BertModel from the checkpoint of a model that you expect to be exactly identical (initializing a BertForSequenceClassification model from a BertForSequenceClassification model).\n"
     ]
    },
    {
     "data": {
      "text/plain": [
       "tensor([[0.5299]])"
      ]
     },
     "execution_count": 9,
     "metadata": {},
     "output_type": "execute_result"
    }
   ],
   "source": [
    "from sentence_transformers import SentenceTransformer\n",
    "model = SentenceTransformer('D:\\models\\FinBERT_L-12_H-768_A-12_pytorch\\FinBERT_L-12_H-768_A-12_pytorch')\n",
    "embeddings = model.encode(['建筑研究设计业务简介', '建筑研究设计业务介绍', '创新药', '减肥药', '减肥创新药'])\n",
    "util.cos_sim(embeddings[0], embeddings[3])"
   ]
  },
  {
   "cell_type": "code",
   "execution_count": 10,
   "metadata": {},
   "outputs": [],
   "source": [
    "txt = '建筑研究设计业务简介建筑研究设计业务简介建筑研究设计业务简介建筑研究设计业务简介建筑研究设计业务简介建筑研究设计业务简介建筑研究设计业务简介建筑研究设计业务简介建筑研究设计业务简介建筑研究设计业务简介建筑研究设计业务简介建筑研究设计业务简介建筑研究设计业务简介建筑研究设计业务简介建筑研究设计业务简介建筑研究设计业务简介建筑研究设计业务简介建筑研究设计业务简介建筑研究设计业务简介建筑研究设计业务简介建筑研究设计业务简介建筑研究设计业务简介建筑研究设计业务简介建筑研究设计业务简介建筑研究设计业务简介建筑研究设计业务简介建筑研究设计业务简介建筑研究设计业务简介建筑研究设计业务简介建筑研究设计业务简介建筑研究设计业务简介建筑研究设计业务简介建筑研究设计业务简介建筑研究设计业务简介建筑研究设计业务简介建筑研究设计业务简介建筑研究设计业务简介建筑研究设计业务简介建筑研究设计业务简介建筑研究设计业务简介建筑研究设计业务简介建筑研究设计业务简介建筑研究设计业务简介建筑研究设计业务简介建筑研究设计业务简介建筑研究设计业务简介建筑研究设计业务简介建筑研究设计业务简介建筑研究设计业务简介建筑研究设计业务简介建筑研究设计业务简介建筑研究设计业务简介建筑研究设计业务简介建筑研究设计业务简介建筑研究设计业务简介建筑研究设计业务简介建筑研究设计业务简介建筑研究设计业务简介建筑研究设计业务简介'"
   ]
  },
  {
   "cell_type": "code",
   "execution_count": 11,
   "metadata": {},
   "outputs": [
    {
     "data": {
      "text/plain": [
       "590"
      ]
     },
     "execution_count": 11,
     "metadata": {},
     "output_type": "execute_result"
    }
   ],
   "source": [
    "len(txt)"
   ]
  },
  {
   "cell_type": "code",
   "execution_count": 16,
   "metadata": {},
   "outputs": [
    {
     "data": {
      "text/plain": [
       "768"
      ]
     },
     "execution_count": 16,
     "metadata": {},
     "output_type": "execute_result"
    }
   ],
   "source": [
    "len(model.encode([txt])[0])"
   ]
  },
  {
   "cell_type": "code",
   "execution_count": 48,
   "metadata": {},
   "outputs": [],
   "source": [
    "txt1 = txt\n",
    "txt2 = txt[0:500\n",
    "           ]"
   ]
  },
  {
   "cell_type": "code",
   "execution_count": 11,
   "metadata": {},
   "outputs": [
    {
     "data": {
      "text/plain": [
       "'建筑研究设计业务简介建筑研究设计业务简介建筑研究设计业务简介建筑研究设计业务简介建筑研究设计业务简介建筑研究设计业务简介建筑研究设计业务简介建筑研究设计业务简介建筑研究设计业务简介建筑研究设计业务简介建筑研究设计业务简介建筑研究设计业务简介建筑研究设计业务简介建筑研究设计业务简介建筑研究设计业务简介建筑研究设计业务简介建筑研究设计业务简介建筑研究设计业务简介建筑研究设计业务简介建筑研究设计业务简介建筑研究设计业务简介建筑研究设计业务简介建筑研究设计业务简介建筑研究设计业务简介建筑研究设计业务简介建筑研究设计业务简介建筑研究设计业务简介建筑研究设计业务简介建筑研究设计业务简介建筑研究设计业务简介'"
      ]
     },
     "execution_count": 11,
     "metadata": {},
     "output_type": "execute_result"
    }
   ],
   "source": [
    "txt2"
   ]
  },
  {
   "cell_type": "code",
   "execution_count": 49,
   "metadata": {},
   "outputs": [],
   "source": [
    "embeddings = model.encode([txt1, txt2])"
   ]
  },
  {
   "cell_type": "code",
   "execution_count": 50,
   "metadata": {},
   "outputs": [
    {
     "data": {
      "text/plain": [
       "array([[ 0.30319238,  0.25701678,  0.14635947, ..., -0.1346375 ,\n",
       "         0.655829  , -0.21862134],\n",
       "       [ 0.46080935,  0.24851006,  0.18233544, ..., -0.13117073,\n",
       "         0.6299102 , -0.21182345]], dtype=float32)"
      ]
     },
     "execution_count": 50,
     "metadata": {},
     "output_type": "execute_result"
    }
   ],
   "source": [
    "embeddings"
   ]
  },
  {
   "cell_type": "code",
   "execution_count": null,
   "metadata": {},
   "outputs": [],
   "source": []
  }
 ],
 "metadata": {
  "kernelspec": {
   "display_name": "base",
   "language": "python",
   "name": "python3"
  },
  "language_info": {
   "codemirror_mode": {
    "name": "ipython",
    "version": 3
   },
   "file_extension": ".py",
   "mimetype": "text/x-python",
   "name": "python",
   "nbconvert_exporter": "python",
   "pygments_lexer": "ipython3",
   "version": "3.10.9"
  },
  "orig_nbformat": 4
 },
 "nbformat": 4,
 "nbformat_minor": 2
}
