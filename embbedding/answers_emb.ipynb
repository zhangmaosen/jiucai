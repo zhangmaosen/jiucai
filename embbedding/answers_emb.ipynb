{
 "cells": [
  {
   "cell_type": "code",
   "execution_count": 72,
   "metadata": {},
   "outputs": [],
   "source": [
    "import ray\n",
    "from typing import Dict, List\n",
    "import numpy as np\n",
    "import pyarrow.json as pajson\n",
    "block_size = 10 << 25 # Set block size to 300MB\n",
    "ds = ray.data.read_json('/home/userroot/dev/jiucai/crawl/stock_report/survey_contents'\n",
    ",read_options=pajson.ReadOptions(block_size=block_size))\n",
    "#ds = ds.limit(100)\n"
   ]
  },
  {
   "cell_type": "code",
   "execution_count": 21,
   "metadata": {},
   "outputs": [
    {
     "data": {
      "text/plain": [
       "335544320"
      ]
     },
     "execution_count": 21,
     "metadata": {},
     "output_type": "execute_result"
    }
   ],
   "source": [
    "block_size = 10 << 25\n",
    "block_size"
   ]
  },
  {
   "cell_type": "code",
   "execution_count": 27,
   "metadata": {},
   "outputs": [],
   "source": [
    "from langchain_community.embeddings.huggingface import HuggingFaceEmbeddings\n",
    "from transformers import AutoModel\n",
    "from llama_index.core.node_parser import  SentenceSplitter #SimpleNodeParser\n",
    "from llama_index.core.schema import Node\n",
    "from llama_index.core.schema import Document\n",
    "import pandas as pd\n",
    "import pyarrow as pa\n",
    "import warnings\n",
    "import pandas as pd\n",
    "import copy\n",
    "from llama_index.core.schema import TextNode, NodeRelationship, RelatedNodeInfo\n",
    "\n",
    "# Suppress FutureWarning messages\n",
    "warnings.simplefilter(action='ignore', category=FutureWarning)\n",
    "\n",
    "\n",
    "class EmbedNodes:\n",
    "    def __init__(self):\n",
    "        import os\n",
    "        #os.environ['HTTPS_PROXY'] = 'http://100.109.83.118:808/'\n",
    "        self.embedding_model = HuggingFaceEmbeddings(model_name='/data/models/bge-large-zh')\n",
    "\n",
    "    #列存储的方式\n",
    "    def __call__(self, data_batch: Dict[str, np.ndarray]) -> Dict[str, List[Node]]:\n",
    "        nodes = []\n",
    "        summaries = []\n",
    "        answers_batch = data_batch['result']\n",
    "        for a in answers_batch:\n",
    "            for aa in a['data']:\n",
    "\n",
    "                #t = aa['CONTENT'] \n",
    "                node = TextNode(text=str(aa))\n",
    "                nodes.append(node)\n",
    "                summaries.append(str(aa))\n",
    "                break\n",
    "        \n",
    "        embeddings = self.embedding_model.embed_documents(summaries)\n",
    "        assert len(nodes) == len(embeddings)\n",
    "\n",
    "        for node, embedding in zip(nodes, embeddings):\n",
    "            node.embedding = embedding\n",
    "        return {\"embedded_nodes\": nodes}"
   ]
  },
  {
   "cell_type": "code",
   "execution_count": 73,
   "metadata": {},
   "outputs": [],
   "source": [
    "class EmbedNodes:\n",
    "    def __init__(self):\n",
    "        import os\n",
    "        #os.environ['HTTPS_PROXY'] = 'http://100.109.83.118:808/'\n",
    "        self.embedding_model = HuggingFaceEmbeddings(model_name='/data/models/bge-large-zh')\n",
    "\n",
    "    #列存储的方式\n",
    "    def __call__(self, data_batch: Dict[str, np.ndarray]) -> Dict[str, List[Node]]:\n",
    "        nodes = []\n",
    "        summaries = []\n",
    "        answers_batch = data_batch['result']\n",
    "        for a in answers_batch:\n",
    "            for aa in a['data']:\n",
    "\n",
    "                #t = aa['CONTENT'] \n",
    "                text_list =  [str(value) for value in aa.values()]\n",
    "                joined_text = ','.join(text_list)\n",
    "                node = TextNode(text=str(joined_text))\n",
    "                nodes.append(node)\n",
    "                summaries.append(str(joined_text))\n",
    "                break\n",
    "        \n",
    "        embeddings = self.embedding_model.embed_documents(summaries)\n",
    "        assert len(nodes) == len(embeddings)\n",
    "\n",
    "        for node, embedding in zip(nodes, embeddings):\n",
    "            node.embedding = embedding\n",
    "        return {\"embedded_nodes\": nodes}"
   ]
  },
  {
   "cell_type": "code",
   "execution_count": 74,
   "metadata": {},
   "outputs": [],
   "source": [
    "embeds = ds.map_batches(EmbedNodes, concurrency=4, num_gpus=1, batch_size=400)\n",
    "    "
   ]
  },
  {
   "cell_type": "code",
   "execution_count": 29,
   "metadata": {},
   "outputs": [],
   "source": [
    "from llama_index.core import Settings\n",
    "from llama_index.llms.ollama import Ollama\n",
    "from llama_index.embeddings.huggingface import HuggingFaceEmbedding\n",
    "\n",
    "Settings.llm = Ollama(model=\"qwen:7b\", request_timeout=120.0)\n",
    "Settings.embed_model = HuggingFaceEmbedding(\n",
    "    model_name=\"/data/models/bge-large-zh\"\n",
    ")"
   ]
  },
  {
   "cell_type": "code",
   "execution_count": 75,
   "metadata": {},
   "outputs": [
    {
     "name": "stderr",
     "output_type": "stream",
     "text": [
      "2024-03-12 15:27:53,280\tINFO set_read_parallelism.py:115 -- Using autodetected parallelism=200 for stage ReadJSON to satisfy DataContext.get_current().min_parallelism=200.\n",
      "2024-03-12 15:27:53,281\tINFO set_read_parallelism.py:122 -- To satisfy the requested parallelism of 200, each read task output is split into 8 smaller blocks.\n",
      "2024-03-12 15:27:53,286\tINFO streaming_executor.py:112 -- Executing DAG InputDataBuffer[Input] -> TaskPoolMapOperator[ReadJSON] -> ActorPoolMapOperator[MapBatches(EmbedNodes)]\n",
      "2024-03-12 15:27:53,288\tINFO streaming_executor.py:113 -- Execution config: ExecutionOptions(resource_limits=ExecutionResources(cpu=None, gpu=None, object_store_memory=None), exclude_resources=ExecutionResources(cpu=0, gpu=0, object_store_memory=0), locality_with_output=False, preserve_order=False, actor_locality_enabled=True, verbose_progress=False)\n",
      "2024-03-12 15:27:53,290\tINFO streaming_executor.py:115 -- Tip: For detailed progress reporting, run `ray.data.DataContext.get_current().execution_options.verbose_progress = True`\n"
     ]
    },
    {
     "name": "stderr",
     "output_type": "stream",
     "text": [
      "2024-03-12 15:27:53,502\tINFO actor_pool_map_operator.py:114 -- MapBatches(EmbedNodes): Waiting for 4 pool actors to start...\n"
     ]
    },
    {
     "data": {
      "application/vnd.jupyter.widget-view+json": {
       "model_id": "be2e16387118481ebb2e77e109ae5330",
       "version_major": 2,
       "version_minor": 0
      },
      "text/plain": [
       "Running 0:   0%|          | 0/25 [00:00<?, ?it/s]"
      ]
     },
     "metadata": {},
     "output_type": "display_data"
    }
   ],
   "source": [
    "ray.data.DataContext.get_current().execution_options.verbose_progress = True\n",
    "stock_docs_nodes = []\n",
    "title_dict = {}\n",
    "for row in embeds.iter_rows():\n",
    "    node:Node = row[\"embedded_nodes\"]\n",
    "    if not node.id_ in title_dict:\n",
    "        title_dict[node.id_] = True\n",
    "        assert node.embedding is not None\n",
    "        stock_docs_nodes.append(node)"
   ]
  },
  {
   "cell_type": "code",
   "execution_count": 76,
   "metadata": {},
   "outputs": [
    {
     "ename": "OperationalError",
     "evalue": "attempt to write a readonly database",
     "output_type": "error",
     "traceback": [
      "\u001b[0;31m---------------------------------------------------------------------------\u001b[0m",
      "\u001b[0;31mOperationalError\u001b[0m                          Traceback (most recent call last)",
      "Cell \u001b[0;32mIn[76], line 30\u001b[0m\n\u001b[1;32m     25\u001b[0m \u001b[38;5;66;03m# index = VectorStoreIndex.from_vector_store(\u001b[39;00m\n\u001b[1;32m     26\u001b[0m \u001b[38;5;66;03m#     vector_store\u001b[39;00m\n\u001b[1;32m     27\u001b[0m \u001b[38;5;66;03m# )\u001b[39;00m\n\u001b[1;32m     28\u001b[0m \u001b[38;5;66;03m#create your index\u001b[39;00m\n\u001b[1;32m     29\u001b[0m \u001b[38;5;28;01mtry\u001b[39;00m:\n\u001b[0;32m---> 30\u001b[0m     index \u001b[38;5;241m=\u001b[39m \u001b[43mVectorStoreIndex\u001b[49m\u001b[43m(\u001b[49m\n\u001b[1;32m     31\u001b[0m \u001b[43m        \u001b[49m\u001b[43mnodes\u001b[49m\u001b[38;5;241;43m=\u001b[39;49m\u001b[43mstock_docs_nodes\u001b[49m\u001b[43m,\u001b[49m\u001b[43m \u001b[49m\u001b[43mstorage_context\u001b[49m\u001b[38;5;241;43m=\u001b[39;49m\u001b[43mstorage_context\u001b[49m\n\u001b[1;32m     32\u001b[0m \u001b[43m    \u001b[49m\u001b[43m)\u001b[49m\n\u001b[1;32m     33\u001b[0m \u001b[38;5;28;01mexcept\u001b[39;00m DuplicateIDError:\n\u001b[1;32m     34\u001b[0m     \u001b[38;5;28mprint\u001b[39m(\u001b[38;5;124m\"\u001b[39m\u001b[38;5;124mduplicat id, ignore it!\u001b[39m\u001b[38;5;124m\"\u001b[39m)\n",
      "File \u001b[0;32m~/miniconda3/envs/rag/lib/python3.10/site-packages/llama_index/core/indices/vector_store/base.py:74\u001b[0m, in \u001b[0;36mVectorStoreIndex.__init__\u001b[0;34m(self, nodes, use_async, store_nodes_override, embed_model, insert_batch_size, objects, index_struct, storage_context, callback_manager, transformations, show_progress, service_context, **kwargs)\u001b[0m\n\u001b[1;32m     67\u001b[0m \u001b[38;5;28mself\u001b[39m\u001b[38;5;241m.\u001b[39m_embed_model \u001b[38;5;241m=\u001b[39m (\n\u001b[1;32m     68\u001b[0m     resolve_embed_model(embed_model, callback_manager\u001b[38;5;241m=\u001b[39mcallback_manager)\n\u001b[1;32m     69\u001b[0m     \u001b[38;5;28;01mif\u001b[39;00m embed_model\n\u001b[1;32m     70\u001b[0m     \u001b[38;5;28;01melse\u001b[39;00m embed_model_from_settings_or_context(Settings, service_context)\n\u001b[1;32m     71\u001b[0m )\n\u001b[1;32m     73\u001b[0m \u001b[38;5;28mself\u001b[39m\u001b[38;5;241m.\u001b[39m_insert_batch_size \u001b[38;5;241m=\u001b[39m insert_batch_size\n\u001b[0;32m---> 74\u001b[0m \u001b[38;5;28;43msuper\u001b[39;49m\u001b[43m(\u001b[49m\u001b[43m)\u001b[49m\u001b[38;5;241;43m.\u001b[39;49m\u001b[38;5;21;43m__init__\u001b[39;49m\u001b[43m(\u001b[49m\n\u001b[1;32m     75\u001b[0m \u001b[43m    \u001b[49m\u001b[43mnodes\u001b[49m\u001b[38;5;241;43m=\u001b[39;49m\u001b[43mnodes\u001b[49m\u001b[43m,\u001b[49m\n\u001b[1;32m     76\u001b[0m \u001b[43m    \u001b[49m\u001b[43mindex_struct\u001b[49m\u001b[38;5;241;43m=\u001b[39;49m\u001b[43mindex_struct\u001b[49m\u001b[43m,\u001b[49m\n\u001b[1;32m     77\u001b[0m \u001b[43m    \u001b[49m\u001b[43mservice_context\u001b[49m\u001b[38;5;241;43m=\u001b[39;49m\u001b[43mservice_context\u001b[49m\u001b[43m,\u001b[49m\n\u001b[1;32m     78\u001b[0m \u001b[43m    \u001b[49m\u001b[43mstorage_context\u001b[49m\u001b[38;5;241;43m=\u001b[39;49m\u001b[43mstorage_context\u001b[49m\u001b[43m,\u001b[49m\n\u001b[1;32m     79\u001b[0m \u001b[43m    \u001b[49m\u001b[43mshow_progress\u001b[49m\u001b[38;5;241;43m=\u001b[39;49m\u001b[43mshow_progress\u001b[49m\u001b[43m,\u001b[49m\n\u001b[1;32m     80\u001b[0m \u001b[43m    \u001b[49m\u001b[43mobjects\u001b[49m\u001b[38;5;241;43m=\u001b[39;49m\u001b[43mobjects\u001b[49m\u001b[43m,\u001b[49m\n\u001b[1;32m     81\u001b[0m \u001b[43m    \u001b[49m\u001b[43mcallback_manager\u001b[49m\u001b[38;5;241;43m=\u001b[39;49m\u001b[43mcallback_manager\u001b[49m\u001b[43m,\u001b[49m\n\u001b[1;32m     82\u001b[0m \u001b[43m    \u001b[49m\u001b[43mtransformations\u001b[49m\u001b[38;5;241;43m=\u001b[39;49m\u001b[43mtransformations\u001b[49m\u001b[43m,\u001b[49m\n\u001b[1;32m     83\u001b[0m \u001b[43m    \u001b[49m\u001b[38;5;241;43m*\u001b[39;49m\u001b[38;5;241;43m*\u001b[39;49m\u001b[43mkwargs\u001b[49m\u001b[43m,\u001b[49m\n\u001b[1;32m     84\u001b[0m \u001b[43m\u001b[49m\u001b[43m)\u001b[49m\n",
      "File \u001b[0;32m~/miniconda3/envs/rag/lib/python3.10/site-packages/llama_index/core/indices/base.py:91\u001b[0m, in \u001b[0;36mBaseIndex.__init__\u001b[0;34m(self, nodes, objects, index_struct, storage_context, callback_manager, transformations, show_progress, service_context, **kwargs)\u001b[0m\n\u001b[1;32m     89\u001b[0m \u001b[38;5;28;01mif\u001b[39;00m index_struct \u001b[38;5;129;01mis\u001b[39;00m \u001b[38;5;28;01mNone\u001b[39;00m:\n\u001b[1;32m     90\u001b[0m     nodes \u001b[38;5;241m=\u001b[39m nodes \u001b[38;5;129;01mor\u001b[39;00m []\n\u001b[0;32m---> 91\u001b[0m     index_struct \u001b[38;5;241m=\u001b[39m \u001b[38;5;28;43mself\u001b[39;49m\u001b[38;5;241;43m.\u001b[39;49m\u001b[43mbuild_index_from_nodes\u001b[49m\u001b[43m(\u001b[49m\n\u001b[1;32m     92\u001b[0m \u001b[43m        \u001b[49m\u001b[43mnodes\u001b[49m\u001b[43m \u001b[49m\u001b[38;5;241;43m+\u001b[39;49m\u001b[43m \u001b[49m\u001b[43mobjects\u001b[49m\u001b[43m  \u001b[49m\u001b[38;5;66;43;03m# type: ignore\u001b[39;49;00m\n\u001b[1;32m     93\u001b[0m \u001b[43m    \u001b[49m\u001b[43m)\u001b[49m\n\u001b[1;32m     94\u001b[0m \u001b[38;5;28mself\u001b[39m\u001b[38;5;241m.\u001b[39m_index_struct \u001b[38;5;241m=\u001b[39m index_struct\n\u001b[1;32m     95\u001b[0m \u001b[38;5;28mself\u001b[39m\u001b[38;5;241m.\u001b[39m_storage_context\u001b[38;5;241m.\u001b[39mindex_store\u001b[38;5;241m.\u001b[39madd_index_struct(\u001b[38;5;28mself\u001b[39m\u001b[38;5;241m.\u001b[39m_index_struct)\n",
      "File \u001b[0;32m~/miniconda3/envs/rag/lib/python3.10/site-packages/llama_index/core/indices/vector_store/base.py:307\u001b[0m, in \u001b[0;36mVectorStoreIndex.build_index_from_nodes\u001b[0;34m(self, nodes, **insert_kwargs)\u001b[0m\n\u001b[1;32m    299\u001b[0m \u001b[38;5;28;01mif\u001b[39;00m \u001b[38;5;28many\u001b[39m(\n\u001b[1;32m    300\u001b[0m     node\u001b[38;5;241m.\u001b[39mget_content(metadata_mode\u001b[38;5;241m=\u001b[39mMetadataMode\u001b[38;5;241m.\u001b[39mEMBED) \u001b[38;5;241m==\u001b[39m \u001b[38;5;124m\"\u001b[39m\u001b[38;5;124m\"\u001b[39m \u001b[38;5;28;01mfor\u001b[39;00m node \u001b[38;5;129;01min\u001b[39;00m nodes\n\u001b[1;32m    301\u001b[0m ):\n\u001b[1;32m    302\u001b[0m     \u001b[38;5;28;01mraise\u001b[39;00m \u001b[38;5;167;01mValueError\u001b[39;00m(\n\u001b[1;32m    303\u001b[0m         \u001b[38;5;124m\"\u001b[39m\u001b[38;5;124mCannot build index from nodes with no content. \u001b[39m\u001b[38;5;124m\"\u001b[39m\n\u001b[1;32m    304\u001b[0m         \u001b[38;5;124m\"\u001b[39m\u001b[38;5;124mPlease ensure all nodes have content.\u001b[39m\u001b[38;5;124m\"\u001b[39m\n\u001b[1;32m    305\u001b[0m     )\n\u001b[0;32m--> 307\u001b[0m \u001b[38;5;28;01mreturn\u001b[39;00m \u001b[38;5;28;43mself\u001b[39;49m\u001b[38;5;241;43m.\u001b[39;49m\u001b[43m_build_index_from_nodes\u001b[49m\u001b[43m(\u001b[49m\u001b[43mnodes\u001b[49m\u001b[43m,\u001b[49m\u001b[43m \u001b[49m\u001b[38;5;241;43m*\u001b[39;49m\u001b[38;5;241;43m*\u001b[39;49m\u001b[43minsert_kwargs\u001b[49m\u001b[43m)\u001b[49m\n",
      "File \u001b[0;32m~/miniconda3/envs/rag/lib/python3.10/site-packages/llama_index/core/indices/vector_store/base.py:279\u001b[0m, in \u001b[0;36mVectorStoreIndex._build_index_from_nodes\u001b[0;34m(self, nodes, **insert_kwargs)\u001b[0m\n\u001b[1;32m    277\u001b[0m     run_async_tasks(tasks)\n\u001b[1;32m    278\u001b[0m \u001b[38;5;28;01melse\u001b[39;00m:\n\u001b[0;32m--> 279\u001b[0m     \u001b[38;5;28;43mself\u001b[39;49m\u001b[38;5;241;43m.\u001b[39;49m\u001b[43m_add_nodes_to_index\u001b[49m\u001b[43m(\u001b[49m\n\u001b[1;32m    280\u001b[0m \u001b[43m        \u001b[49m\u001b[43mindex_struct\u001b[49m\u001b[43m,\u001b[49m\n\u001b[1;32m    281\u001b[0m \u001b[43m        \u001b[49m\u001b[43mnodes\u001b[49m\u001b[43m,\u001b[49m\n\u001b[1;32m    282\u001b[0m \u001b[43m        \u001b[49m\u001b[43mshow_progress\u001b[49m\u001b[38;5;241;43m=\u001b[39;49m\u001b[38;5;28;43mself\u001b[39;49m\u001b[38;5;241;43m.\u001b[39;49m\u001b[43m_show_progress\u001b[49m\u001b[43m,\u001b[49m\n\u001b[1;32m    283\u001b[0m \u001b[43m        \u001b[49m\u001b[38;5;241;43m*\u001b[39;49m\u001b[38;5;241;43m*\u001b[39;49m\u001b[43minsert_kwargs\u001b[49m\u001b[43m,\u001b[49m\n\u001b[1;32m    284\u001b[0m \u001b[43m    \u001b[49m\u001b[43m)\u001b[49m\n\u001b[1;32m    285\u001b[0m \u001b[38;5;28;01mreturn\u001b[39;00m index_struct\n",
      "File \u001b[0;32m~/miniconda3/envs/rag/lib/python3.10/site-packages/llama_index/core/indices/vector_store/base.py:233\u001b[0m, in \u001b[0;36mVectorStoreIndex._add_nodes_to_index\u001b[0;34m(self, index_struct, nodes, show_progress, **insert_kwargs)\u001b[0m\n\u001b[1;32m    231\u001b[0m \u001b[38;5;28;01mfor\u001b[39;00m nodes_batch \u001b[38;5;129;01min\u001b[39;00m iter_batch(nodes, \u001b[38;5;28mself\u001b[39m\u001b[38;5;241m.\u001b[39m_insert_batch_size):\n\u001b[1;32m    232\u001b[0m     nodes_batch \u001b[38;5;241m=\u001b[39m \u001b[38;5;28mself\u001b[39m\u001b[38;5;241m.\u001b[39m_get_node_with_embedding(nodes_batch, show_progress)\n\u001b[0;32m--> 233\u001b[0m     new_ids \u001b[38;5;241m=\u001b[39m \u001b[38;5;28;43mself\u001b[39;49m\u001b[38;5;241;43m.\u001b[39;49m\u001b[43m_vector_store\u001b[49m\u001b[38;5;241;43m.\u001b[39;49m\u001b[43madd\u001b[49m\u001b[43m(\u001b[49m\u001b[43mnodes_batch\u001b[49m\u001b[43m,\u001b[49m\u001b[43m \u001b[49m\u001b[38;5;241;43m*\u001b[39;49m\u001b[38;5;241;43m*\u001b[39;49m\u001b[43minsert_kwargs\u001b[49m\u001b[43m)\u001b[49m\n\u001b[1;32m    235\u001b[0m     \u001b[38;5;28;01mif\u001b[39;00m \u001b[38;5;129;01mnot\u001b[39;00m \u001b[38;5;28mself\u001b[39m\u001b[38;5;241m.\u001b[39m_vector_store\u001b[38;5;241m.\u001b[39mstores_text \u001b[38;5;129;01mor\u001b[39;00m \u001b[38;5;28mself\u001b[39m\u001b[38;5;241m.\u001b[39m_store_nodes_override:\n\u001b[1;32m    236\u001b[0m         \u001b[38;5;66;03m# NOTE: if the vector store doesn't store text,\u001b[39;00m\n\u001b[1;32m    237\u001b[0m         \u001b[38;5;66;03m# we need to add the nodes to the index struct and document store\u001b[39;00m\n\u001b[1;32m    238\u001b[0m         \u001b[38;5;28;01mfor\u001b[39;00m node, new_id \u001b[38;5;129;01min\u001b[39;00m \u001b[38;5;28mzip\u001b[39m(nodes_batch, new_ids):\n\u001b[1;32m    239\u001b[0m             \u001b[38;5;66;03m# NOTE: remove embedding from node to avoid duplication\u001b[39;00m\n",
      "File \u001b[0;32m~/miniconda3/envs/rag/lib/python3.10/site-packages/llama_index/vector_stores/chroma/base.py:250\u001b[0m, in \u001b[0;36mChromaVectorStore.add\u001b[0;34m(self, nodes, **add_kwargs)\u001b[0m\n\u001b[1;32m    247\u001b[0m         ids\u001b[38;5;241m.\u001b[39mappend(node\u001b[38;5;241m.\u001b[39mnode_id)\n\u001b[1;32m    248\u001b[0m         documents\u001b[38;5;241m.\u001b[39mappend(node\u001b[38;5;241m.\u001b[39mget_content(metadata_mode\u001b[38;5;241m=\u001b[39mMetadataMode\u001b[38;5;241m.\u001b[39mNONE))\n\u001b[0;32m--> 250\u001b[0m     \u001b[38;5;28;43mself\u001b[39;49m\u001b[38;5;241;43m.\u001b[39;49m\u001b[43m_collection\u001b[49m\u001b[38;5;241;43m.\u001b[39;49m\u001b[43madd\u001b[49m\u001b[43m(\u001b[49m\n\u001b[1;32m    251\u001b[0m \u001b[43m        \u001b[49m\u001b[43membeddings\u001b[49m\u001b[38;5;241;43m=\u001b[39;49m\u001b[43membeddings\u001b[49m\u001b[43m,\u001b[49m\n\u001b[1;32m    252\u001b[0m \u001b[43m        \u001b[49m\u001b[43mids\u001b[49m\u001b[38;5;241;43m=\u001b[39;49m\u001b[43mids\u001b[49m\u001b[43m,\u001b[49m\n\u001b[1;32m    253\u001b[0m \u001b[43m        \u001b[49m\u001b[43mmetadatas\u001b[49m\u001b[38;5;241;43m=\u001b[39;49m\u001b[43mmetadatas\u001b[49m\u001b[43m,\u001b[49m\n\u001b[1;32m    254\u001b[0m \u001b[43m        \u001b[49m\u001b[43mdocuments\u001b[49m\u001b[38;5;241;43m=\u001b[39;49m\u001b[43mdocuments\u001b[49m\u001b[43m,\u001b[49m\n\u001b[1;32m    255\u001b[0m \u001b[43m    \u001b[49m\u001b[43m)\u001b[49m\n\u001b[1;32m    256\u001b[0m     all_ids\u001b[38;5;241m.\u001b[39mextend(ids)\n\u001b[1;32m    258\u001b[0m \u001b[38;5;28;01mreturn\u001b[39;00m all_ids\n",
      "File \u001b[0;32m~/miniconda3/envs/rag/lib/python3.10/site-packages/chromadb/api/models/Collection.py:168\u001b[0m, in \u001b[0;36mCollection.add\u001b[0;34m(self, ids, embeddings, metadatas, documents, images, uris)\u001b[0m\n\u001b[1;32m    163\u001b[0m             \u001b[38;5;28;01mraise\u001b[39;00m \u001b[38;5;167;01mValueError\u001b[39;00m(\n\u001b[1;32m    164\u001b[0m                 \u001b[38;5;124m\"\u001b[39m\u001b[38;5;124mYou must set a data loader on the collection if loading from URIs.\u001b[39m\u001b[38;5;124m\"\u001b[39m\n\u001b[1;32m    165\u001b[0m             )\n\u001b[1;32m    166\u001b[0m         embeddings \u001b[38;5;241m=\u001b[39m \u001b[38;5;28mself\u001b[39m\u001b[38;5;241m.\u001b[39m_embed(\u001b[38;5;28mself\u001b[39m\u001b[38;5;241m.\u001b[39m_data_loader(uris))\n\u001b[0;32m--> 168\u001b[0m \u001b[38;5;28;43mself\u001b[39;49m\u001b[38;5;241;43m.\u001b[39;49m\u001b[43m_client\u001b[49m\u001b[38;5;241;43m.\u001b[39;49m\u001b[43m_add\u001b[49m\u001b[43m(\u001b[49m\u001b[43mids\u001b[49m\u001b[43m,\u001b[49m\u001b[43m \u001b[49m\u001b[38;5;28;43mself\u001b[39;49m\u001b[38;5;241;43m.\u001b[39;49m\u001b[43mid\u001b[49m\u001b[43m,\u001b[49m\u001b[43m \u001b[49m\u001b[43membeddings\u001b[49m\u001b[43m,\u001b[49m\u001b[43m \u001b[49m\u001b[43mmetadatas\u001b[49m\u001b[43m,\u001b[49m\u001b[43m \u001b[49m\u001b[43mdocuments\u001b[49m\u001b[43m,\u001b[49m\u001b[43m \u001b[49m\u001b[43muris\u001b[49m\u001b[43m)\u001b[49m\n",
      "File \u001b[0;32m~/miniconda3/envs/rag/lib/python3.10/site-packages/chromadb/telemetry/opentelemetry/__init__.py:127\u001b[0m, in \u001b[0;36mtrace_method.<locals>.decorator.<locals>.wrapper\u001b[0;34m(*args, **kwargs)\u001b[0m\n\u001b[1;32m    125\u001b[0m \u001b[38;5;28;01mglobal\u001b[39;00m tracer, granularity\n\u001b[1;32m    126\u001b[0m \u001b[38;5;28;01mif\u001b[39;00m trace_granularity \u001b[38;5;241m<\u001b[39m granularity:\n\u001b[0;32m--> 127\u001b[0m     \u001b[38;5;28;01mreturn\u001b[39;00m \u001b[43mf\u001b[49m\u001b[43m(\u001b[49m\u001b[38;5;241;43m*\u001b[39;49m\u001b[43margs\u001b[49m\u001b[43m,\u001b[49m\u001b[43m \u001b[49m\u001b[38;5;241;43m*\u001b[39;49m\u001b[38;5;241;43m*\u001b[39;49m\u001b[43mkwargs\u001b[49m\u001b[43m)\u001b[49m\n\u001b[1;32m    128\u001b[0m \u001b[38;5;28;01mif\u001b[39;00m \u001b[38;5;129;01mnot\u001b[39;00m tracer:\n\u001b[1;32m    129\u001b[0m     \u001b[38;5;28;01mreturn\u001b[39;00m f(\u001b[38;5;241m*\u001b[39margs, \u001b[38;5;241m*\u001b[39m\u001b[38;5;241m*\u001b[39mkwargs)\n",
      "File \u001b[0;32m~/miniconda3/envs/rag/lib/python3.10/site-packages/chromadb/api/segment.py:379\u001b[0m, in \u001b[0;36mSegmentAPI._add\u001b[0;34m(self, ids, collection_id, embeddings, metadatas, documents, uris)\u001b[0m\n\u001b[1;32m    377\u001b[0m     \u001b[38;5;28mself\u001b[39m\u001b[38;5;241m.\u001b[39m_validate_embedding_record(coll, r)\n\u001b[1;32m    378\u001b[0m     records_to_submit\u001b[38;5;241m.\u001b[39mappend(r)\n\u001b[0;32m--> 379\u001b[0m \u001b[38;5;28;43mself\u001b[39;49m\u001b[38;5;241;43m.\u001b[39;49m\u001b[43m_producer\u001b[49m\u001b[38;5;241;43m.\u001b[39;49m\u001b[43msubmit_embeddings\u001b[49m\u001b[43m(\u001b[49m\u001b[43mcoll\u001b[49m\u001b[43m[\u001b[49m\u001b[38;5;124;43m\"\u001b[39;49m\u001b[38;5;124;43mtopic\u001b[39;49m\u001b[38;5;124;43m\"\u001b[39;49m\u001b[43m]\u001b[49m\u001b[43m,\u001b[49m\u001b[43m \u001b[49m\u001b[43mrecords_to_submit\u001b[49m\u001b[43m)\u001b[49m\n\u001b[1;32m    381\u001b[0m \u001b[38;5;28mself\u001b[39m\u001b[38;5;241m.\u001b[39m_product_telemetry_client\u001b[38;5;241m.\u001b[39mcapture(\n\u001b[1;32m    382\u001b[0m     CollectionAddEvent(\n\u001b[1;32m    383\u001b[0m         collection_uuid\u001b[38;5;241m=\u001b[39m\u001b[38;5;28mstr\u001b[39m(collection_id),\n\u001b[0;32m   (...)\u001b[0m\n\u001b[1;32m    388\u001b[0m     )\n\u001b[1;32m    389\u001b[0m )\n\u001b[1;32m    390\u001b[0m \u001b[38;5;28;01mreturn\u001b[39;00m \u001b[38;5;28;01mTrue\u001b[39;00m\n",
      "File \u001b[0;32m~/miniconda3/envs/rag/lib/python3.10/site-packages/chromadb/telemetry/opentelemetry/__init__.py:127\u001b[0m, in \u001b[0;36mtrace_method.<locals>.decorator.<locals>.wrapper\u001b[0;34m(*args, **kwargs)\u001b[0m\n\u001b[1;32m    125\u001b[0m \u001b[38;5;28;01mglobal\u001b[39;00m tracer, granularity\n\u001b[1;32m    126\u001b[0m \u001b[38;5;28;01mif\u001b[39;00m trace_granularity \u001b[38;5;241m<\u001b[39m granularity:\n\u001b[0;32m--> 127\u001b[0m     \u001b[38;5;28;01mreturn\u001b[39;00m \u001b[43mf\u001b[49m\u001b[43m(\u001b[49m\u001b[38;5;241;43m*\u001b[39;49m\u001b[43margs\u001b[49m\u001b[43m,\u001b[49m\u001b[43m \u001b[49m\u001b[38;5;241;43m*\u001b[39;49m\u001b[38;5;241;43m*\u001b[39;49m\u001b[43mkwargs\u001b[49m\u001b[43m)\u001b[49m\n\u001b[1;32m    128\u001b[0m \u001b[38;5;28;01mif\u001b[39;00m \u001b[38;5;129;01mnot\u001b[39;00m tracer:\n\u001b[1;32m    129\u001b[0m     \u001b[38;5;28;01mreturn\u001b[39;00m f(\u001b[38;5;241m*\u001b[39margs, \u001b[38;5;241m*\u001b[39m\u001b[38;5;241m*\u001b[39mkwargs)\n",
      "File \u001b[0;32m~/miniconda3/envs/rag/lib/python3.10/site-packages/chromadb/db/mixins/embeddings_queue.py:172\u001b[0m, in \u001b[0;36mSqlEmbeddingsQueue.submit_embeddings\u001b[0;34m(self, topic_name, embeddings)\u001b[0m\n\u001b[1;32m    169\u001b[0m \u001b[38;5;66;03m# The returning clause does not guarantee order, so we need to do reorder\u001b[39;00m\n\u001b[1;32m    170\u001b[0m \u001b[38;5;66;03m# the results. https://www.sqlite.org/lang_returning.html\u001b[39;00m\n\u001b[1;32m    171\u001b[0m sql \u001b[38;5;241m=\u001b[39m \u001b[38;5;124mf\u001b[39m\u001b[38;5;124m\"\u001b[39m\u001b[38;5;132;01m{\u001b[39;00msql\u001b[38;5;132;01m}\u001b[39;00m\u001b[38;5;124m RETURNING seq_id, id\u001b[39m\u001b[38;5;124m\"\u001b[39m  \u001b[38;5;66;03m# Pypika doesn't support RETURNING\u001b[39;00m\n\u001b[0;32m--> 172\u001b[0m results \u001b[38;5;241m=\u001b[39m \u001b[43mcur\u001b[49m\u001b[38;5;241;43m.\u001b[39;49m\u001b[43mexecute\u001b[49m\u001b[43m(\u001b[49m\u001b[43msql\u001b[49m\u001b[43m,\u001b[49m\u001b[43m \u001b[49m\u001b[43mparams\u001b[49m\u001b[43m)\u001b[49m\u001b[38;5;241m.\u001b[39mfetchall()\n\u001b[1;32m    173\u001b[0m \u001b[38;5;66;03m# Reorder the results\u001b[39;00m\n\u001b[1;32m    174\u001b[0m seq_ids \u001b[38;5;241m=\u001b[39m [cast(SeqId, \u001b[38;5;28;01mNone\u001b[39;00m)] \u001b[38;5;241m*\u001b[39m \u001b[38;5;28mlen\u001b[39m(\n\u001b[1;32m    175\u001b[0m     results\n\u001b[1;32m    176\u001b[0m )  \u001b[38;5;66;03m# Lie to mypy: https://stackoverflow.com/questions/76694215/python-type-casting-when-preallocating-list\u001b[39;00m\n",
      "\u001b[0;31mOperationalError\u001b[0m: attempt to write a readonly database"
     ]
    }
   ],
   "source": [
    "import chromadb\n",
    "from llama_index.core import VectorStoreIndex, SimpleDirectoryReader\n",
    "from llama_index.vector_stores.chroma import ChromaVectorStore\n",
    "from llama_index.core import StorageContext\n",
    "from chromadb.errors import DuplicateIDError\n",
    "from llama_index.core import Settings\n",
    "from llama_index.llms.ollama import Ollama\n",
    "from llama_index.embeddings.huggingface import HuggingFaceEmbedding\n",
    "\n",
    "Settings.llm = Ollama(model=\"deepseek-llm:67b\", request_timeout=120.0)\n",
    "Settings.embed_model = HuggingFaceEmbedding(\n",
    "    model_name=\"/data/models/bge-large-zh\"\n",
    ")\n",
    "\n",
    "# initialize client, setting path to save data\n",
    "db = chromadb.PersistentClient(path=\"./stock_db\")\n",
    "\n",
    "# create collection\n",
    "chroma_collection = db.get_or_create_collection(\"qa_base\")\n",
    "\n",
    "# assign chroma as the vector_store to the context\n",
    "vector_store = ChromaVectorStore(chroma_collection=chroma_collection)\n",
    "storage_context = StorageContext.from_defaults(vector_store=vector_store)\n",
    "\n",
    "# index = VectorStoreIndex.from_vector_store(\n",
    "#     vector_store\n",
    "# )\n",
    "#create your index\n",
    "try:\n",
    "    index = VectorStoreIndex(\n",
    "        nodes=stock_docs_nodes, storage_context=storage_context\n",
    "    )\n",
    "except DuplicateIDError:\n",
    "    print(\"duplicat id, ignore it!\")\n",
    "\n",
    "# # create a query engine and query\n",
    "# query_engine = index.as_query_engine()\n",
    "# response = query_engine.query(\"What is the meaning of life?\")\n",
    "# print(response)"
   ]
  },
  {
   "cell_type": "code",
   "execution_count": 55,
   "metadata": {},
   "outputs": [],
   "source": [
    "# define prompt viewing function\n",
    "def display_prompt_dict(prompts_dict):\n",
    "    for k, p in prompts_dict.items():\n",
    "        text_md = f\"**Prompt Key**: {k}<br>\" f\"**Text:** <br>\"\n",
    "        display(Markdown(text_md))\n",
    "        print(p.get_template())\n",
    "        display(Markdown(\"<br><br>\"))"
   ]
  },
  {
   "cell_type": "code",
   "execution_count": 62,
   "metadata": {},
   "outputs": [],
   "source": [
    "Settings.llm = Ollama(model=\"deepseek-llm:67b\", request_timeout=600.0)\n",
    "Settings.embed_model = HuggingFaceEmbedding(\n",
    "    model_name=\"/data/models/bge-large-zh\"\n",
    ")\n",
    "query_engine = index.as_query_engine(\n",
    "    similarity_top_k = 2\n",
    ")\n",
    "#response = query_engine.query(\"详细说明一下ADC药物的过程，相关企业有哪些？\")"
   ]
  },
  {
   "cell_type": "code",
   "execution_count": 63,
   "metadata": {},
   "outputs": [
    {
     "data": {
      "text/markdown": [
       "<b>根据提供的信息，比亚迪拥有一系列独特的技术优势和竞争优势。其中包括：\n",
       "\n",
       "1. **海豹高电压电驱升压充电方案**：这项技术实现了宽域恒功率充电，使得电动车能够在15分钟内行驶300公里，大幅减少了用户等待时间。\n",
       "\n",
       "2. **云辇智能车身控制系统**：这是全球首个新能源专属的智能车身控制技术，能够系统化考量新能源汽车的垂向控制问题，以高智能、护安全、稳驾乘、全覆盖的技术优势，为用户带来兼顾舒适性与操控性的极致驾乘体验。\n",
       "\n",
       "3. **DMO专业越野平台**：这是一个以插混为核心的平台，通过比亚迪全新混动非承载式架构和越野专用混动架构的极致融合，充分发挥比亚迪在高性能底盘、智能电四驱及越野专用动力总成等方面的领先优势，成就超级整车安全之上超强动力、强悍越野与极致能耗之间的最佳平衡。\n",
       "\n",
       "4. **多品牌梯度布局**：依托于本集团核心技术的持续迭代与创新，比亚迪乘用车业务逐步形成由比亚迪品牌、腾势品牌、仰望品牌及方程豹品牌所构建的多品牌梯度布局，覆盖从家用到豪华、从大众到个性化，全面满足用户多方位全场景的用车需求。\n",
       "\n",
       "5. **新能源公交电动化转型**：在公共交通领域，比亚迪领先的三电技术和设计水平能够为城市提供高效的公交运营效率和舒适的乘客体验。同时，比亚迪也在积极推动全球新能源汽车的发展，例如巴西市场的海豚车型就取得了显著的销售成绩。\n",
       "\n",
       "这些技术优势和企业战略布局共同构成了比亚迪的核心竞争力，使其能够在激烈的市场竞争中脱颖而出。</b>"
      ],
      "text/plain": [
       "<IPython.core.display.Markdown object>"
      ]
     },
     "metadata": {},
     "output_type": "display_data"
    }
   ],
   "source": [
    "from IPython.display import Markdown, display\n",
    "response = query_engine.query(\"比亚迪独特的技术优势和企业优势有哪些？用中文回答\")\n",
    "display(Markdown(f\"<b>{response}</b>\"))"
   ]
  },
  {
   "cell_type": "code",
   "execution_count": 64,
   "metadata": {},
   "outputs": [
    {
     "data": {
      "text/markdown": [
       "<b>ADC药物是一种结合了单克隆抗体特异性和细胞毒性化合物杀伤力的新型治疗方法。相比传统化疗药物，它具有更高的靶向性和药效比，能够减少对正常组织的副作用。此外，它的独特结构和作用机制还可以克服肿瘤耐药性的问题，提高临床治疗的疗效。\n",
       "\n",
       "目前市场上已经成功上市的ADC药物包括Adcetris、Kadcyla、Mylotarg和Besponsa等。这些药物已经在血液瘤和实体瘤的治疗中取得了显著的疗效，并且正在被进一步开发用于其他适应症的治疗。</b>"
      ],
      "text/plain": [
       "<IPython.core.display.Markdown object>"
      ]
     },
     "metadata": {},
     "output_type": "display_data"
    }
   ],
   "source": [
    "response = query_engine.query(\"ADC药物的独特优势，和目前成功的产品有哪些？用中文回答\")\n",
    "display(Markdown(f\"<b>{response}</b>\"))"
   ]
  },
  {
   "cell_type": "code",
   "execution_count": 67,
   "metadata": {},
   "outputs": [
    {
     "data": {
      "text/markdown": [
       "<b>根据给定的上下文信息，中国国内的ADC（抗体偶联）药物生产企业有新诺威和迈威生物。其中，巨石生物是新诺威的子公司，其EGFR-ADC产品在中低剂量组已经观察到肿瘤缩小的疗效反应；而9MW2821则是迈威生物自主研发的Nectin-4 ADC，具有更均一的组分、更加稳定的结构和更加优异的肿瘤递送能力。此外，新诺威还在疫苗平台方面有所布局，计划开发RSVmRNA疫苗、VZVmRNA疫苗和HPV治疗性疫苗等产品。</b>"
      ],
      "text/plain": [
       "<IPython.core.display.Markdown object>"
      ]
     },
     "metadata": {},
     "output_type": "display_data"
    }
   ],
   "source": [
    "response = query_engine.query(\"国内ADC药物的生产企业有哪些？有哪些独有的技术或者优势？用中文回答\")\n",
    "display(Markdown(f\"<b>{response}</b>\"))"
   ]
  },
  {
   "cell_type": "code",
   "execution_count": 57,
   "metadata": {},
   "outputs": [
    {
     "data": {
      "text/markdown": [
       "**Prompt Key**: response_synthesizer:text_qa_template<br>**Text:** <br>"
      ],
      "text/plain": [
       "<IPython.core.display.Markdown object>"
      ]
     },
     "metadata": {},
     "output_type": "display_data"
    },
    {
     "name": "stdout",
     "output_type": "stream",
     "text": [
      "Context information is below.\n",
      "---------------------\n",
      "{context_str}\n",
      "---------------------\n",
      "Given the context information and not prior knowledge, answer the query.\n",
      "Query: {query_str}\n",
      "Answer: \n"
     ]
    },
    {
     "data": {
      "text/markdown": [
       "<br><br>"
      ],
      "text/plain": [
       "<IPython.core.display.Markdown object>"
      ]
     },
     "metadata": {},
     "output_type": "display_data"
    },
    {
     "data": {
      "text/markdown": [
       "**Prompt Key**: response_synthesizer:refine_template<br>**Text:** <br>"
      ],
      "text/plain": [
       "<IPython.core.display.Markdown object>"
      ]
     },
     "metadata": {},
     "output_type": "display_data"
    },
    {
     "name": "stdout",
     "output_type": "stream",
     "text": [
      "The original query is as follows: {query_str}\n",
      "We have provided an existing answer: {existing_answer}\n",
      "We have the opportunity to refine the existing answer (only if needed) with some more context below.\n",
      "------------\n",
      "{context_msg}\n",
      "------------\n",
      "Given the new context, refine the original answer to better answer the query. If the context isn't useful, return the original answer.\n",
      "Refined Answer: \n"
     ]
    },
    {
     "data": {
      "text/markdown": [
       "<br><br>"
      ],
      "text/plain": [
       "<IPython.core.display.Markdown object>"
      ]
     },
     "metadata": {},
     "output_type": "display_data"
    }
   ],
   "source": [
    "prompts_dict = query_engine.get_prompts()\n",
    "display_prompt_dict(prompts_dict)"
   ]
  },
  {
   "cell_type": "code",
   "execution_count": 53,
   "metadata": {},
   "outputs": [
    {
     "data": {
      "text/plain": [
       "Response(response='抱歉，我之前的回答似乎有误。以下是针对吉利汽车独特技术优势和企业优势的正确解答：\\n\\n1. **技术优势**：\\n   - 精准匹配消费需求：吉利汽车在研发过程中注重市场调研，精准把握消费者需求，从而提升产品技术含量。\\n   - 高效节能技术应用：随着全球能源形势变化，高效节能成为汽车行业的重要发展方向。吉利汽车在这方面积累了丰富经验和技术成果。\\n   \\n2. **企业优势**：\\n   - 产业链完整：吉利集团在汽车产业内拥有包括研发、设计、生产、销售等在内的完整产业链，为旗下汽车公司提供了强大的技术支撑和资源保障。\\n   - 国际化布局：吉利汽车在国内外市场均有布局，这既体现了其全球化战略视野，也意味着其在全球范围内具有较强的竞争力和技术优势。\\n   \\n综上所述，吉利汽车凭借精准市场需求、高效节能技术应用以及产业链完整等优势，在汽车行业内展现出强大的竞争力和持续的技术创新能力。\\n', source_nodes=[NodeWithScore(node=TextNode(id_='cc0bb39c-f05c-47a5-81e0-f592486d0bc7', embedding=None, metadata={}, excluded_embed_metadata_keys=[], excluded_llm_metadata_keys=[], relationships={}, text=\"{'SECUCODE': '300698.SZ', 'SECURITY_CODE': '300698', 'SECURITY_NAME_ABBR': '万马科技', 'NOTICE_DATE': datetime.datetime(2023, 10, 26, 0, 0), 'RECEIVE_START_DATE': datetime.datetime(2023, 10, 26, 0, 0), 'RECEIVE_END_DATE': datetime.datetime(2023, 10, 26, 0, 0), 'RECEIVE_OBJECT': '东北证券', 'RECEIVE_PLACE': '公司会议室', 'RECEIVE_WAY_EXPLAIN': '特定对象调研', 'INVESTIGATORS': '吴肖寅,唐凯,刘云坤', 'RECEPTIONIST': '董事、副总经理、董事会秘书 姜烨', 'NUM': 1, 'CONTENT': '会议围绕投资者关心的话题,展开一系列交流。主要交流情况如下:\\\\n\\\\n1、优咔目前的主要业务和产品?\\\\n\\\\n答:公司的车联网业务围绕帮助车企完成智能化、数字化、网联化转型,主要通过与基础通信运营商合作,向车企提供前装车联网连接管理服务与运营,帮助车企客户使用高质量、易管理、可运营的4G/5G连接。同时根据车企需求,帮助主机厂商建立车联网业务管理平台(MNO)、车联网运营平台(TOSP),并通过整合各种资源,向车企提供车联网生态服务。\\\\n\\\\n2、车联网业务主要客户有哪些,各业务板块收入占比?\\\\n\\\\n答:吉利目前是公司车联网业务板块最主要的客户,在向吉利提供优质产品与服务的同时,公司积极拓展与其他车企的合作,近年来已陆续为上汽大众、东风、智己、岚图、高合、理想、集度、天际汽车提供车联网相关产品与服务。车联网连接管理业务是公司开展最早、客户合作相对成熟稳定的业务,是公司最主要的车联网业务收入板块。\\\\n\\\\n3、车厂自动驾驶对智算中心的需求是什么样的?\\\\n\\\\n答:当前自动驾驶的技术趋势已逐步从规则驱动向数据驱动转变,车厂自动驾驶技术的成熟度与数据规模相关,数据规模越大,模型性能就越好,因此车厂自动驾驶对智算中心的需求将随着自动驾驶功能的落地而大幅增长。\\\\n\\\\n4、与雅安的战略合作,大概的业务规划是什么样的?\\\\n\\\\n答:优咔科技与雅安的合作主要为满足车端算力向云端转移,具体在智能网联及自动驾驶领域进行产品布局和研发。在智能网联领域,为车企提供包括软硬件产品、平台服务等,帮助车企数字化智能化转型升级;在自动驾驶领域,双方将在云平台建设及自动驾驶研发工具链方面共同探索可行的方案,助力主机厂客户加快自身自动驾驶研发的速度和效率。\\\\n\\\\n5、公司在自动驾驶领域,目前业务布局和技术研发的进展情况?\\\\n\\\\n答:随着主机厂商自动驾驶研发进程不断推进,公司密切关注主机厂的需求并积极拓展、跟进市场进行相关产品和行业布局,正在进行支持数据驱动自动驾驶的相关产品研发,并与产业合作伙伴共同合作,逐步推进相关业务、产品与主机厂商的合作落地。\\\\n\\\\n6、优咔科技新客户跟踪情况?\\\\n\\\\n答:公司积极拓展各主机厂商新客户,目前推进顺利,进展情况可关注公司公告。\\\\n\\\\n7、公司拟成立境外子公司出于什么考虑?\\\\n\\\\n答:国内汽车出口量不断加大,销售范围变广,随之而来对汽车海外连接、海外车联生态的需求也从小规模、单一市场、单一品类扩展到大规模,全球化、市场定制化,由此带来了巨大的商业需求及商业机会。公司拟设立境外子公司,可以与境外车企、中国车企境外实体、境外内容服务提供商、境外电信运营商等合作伙伴建立合作关系,通过优咔科技全球化的技术平台及支撑能力,服务全球车企特别是国内车企出海,共同开拓面向全球的车联网连接与生态服务市场。', 'ORG_TYPE': '证券公司'}\", start_char_idx=None, end_char_idx=None, text_template='{metadata_str}\\n\\n{content}', metadata_template='{key}: {value}', metadata_seperator='\\n'), score=0.39771891532693787), NodeWithScore(node=TextNode(id_='088440fd-a16f-4a82-a3cd-0b5e5c2e5930', embedding=None, metadata={}, excluded_embed_metadata_keys=[], excluded_llm_metadata_keys=[], relationships={}, text=\"{'SECUCODE': '000559.SZ', 'SECURITY_CODE': '000559', 'SECURITY_NAME_ABBR': '万向钱潮', 'NOTICE_DATE': datetime.datetime(2023, 7, 1, 0, 0), 'RECEIVE_START_DATE': datetime.datetime(2023, 6, 27, 0, 0), 'RECEIVE_END_DATE': None, 'RECEIVE_OBJECT': '瑞穗证券', 'RECEIVE_PLACE': '公司会议室', 'RECEIVE_WAY_EXPLAIN': '特定对象调研,现场调研', 'INVESTIGATORS': '坂口大陆,石山孝高,伊藤辰彦,宫城大和,何楠,钱进', 'RECEPTIONIST': '董事会秘书 许小建,市场部总经理 闻超,技术中心总经理 陈国军,财务部副总经理 崔立国,技术中心副总经理 石伯妹,发展投资部副总经理 吴华君', 'NUM': 1, 'CONTENT': '1、请问各产品的销售额构成比、各客户销售额构成比是怎样的?\\\\r\\\\n答:相关数据已在年报中披露,2022年汽车零部件业务96.08亿元、铁合金业务42.02亿元。\\\\r\\\\n2、贵司主要竞争对手有哪些(尤其是刹车、底盘和悬架),贵司相对竞争对手的优势和差异化?\\\\r\\\\n答:公司的竞争对手主要为国际头部的相关零部件供应商。公司将不断进行对标,加大技术创新,继续深耕。\\\\r\\\\n优势和差异化方面,公司是独立的系统零部件供应商,自主知识产权,拥有国家级企业技术中心、国家级博士后科研工作站、省级高新技术企业研发中心、省级工业设计中心、符合数字工厂的产品生命周期管理平台、中国合格评定国家认可委员会CNAS/中国质量认证中心CQC/中汽认证中心CCAP认证实验室。具有核心的设计技术、制造技术与试验技术。以绿色设计、绿色制造和智能制造的理念,围绕“用户要什么,市场要什么”,落实“量产一代、开发一代、储备一代”三个支柱,持续开发低能耗、轻量化、长寿命、智能化产品,为新能源汽车和智能汽车提供绿色化和智能化的底盘零件及集成系统解决方案。\\\\r\\\\n3、各产品的盈利能力,是否存在差异?\\\\r\\\\n答:公司的产品有万向节、传动轴、等速驱动轴、轮毂单元、轴承、制动器、汽车电子、燃油箱及后处理系统等,由于产品功能及客户不一样,各产品的盈利能力也有差异,2022年已披露的汽车零部件产品毛利率为18.11%。\\\\r\\\\n4、请问国内品牌、欧美品牌、以及日本品牌汽车制造商要求是否有差异(品质、价格等)?\\\\r\\\\n答:欧美品牌、日本品牌以及国内品牌的品质(包括性能、舒适性、油耗等方面)都在不断提升,在价格上国内品牌相对稍微低一些。\\\\r\\\\n5、请问目前的订单走势、产能利用率的情况如何?\\\\r\\\\n答:公司目前按主机厂订单正常排产发货,订单逐月稳定小幅增长;产能利用率相对合理。\\\\r\\\\n6、贵公司是如何看待新车市场以及对于2023年的展望是怎么样的?\\\\r\\\\n答:2023年我国将继续坚持稳中求进总基调,大力提振市场信心,实施扩大内需战略,积极推动经济运行整体好转,叠加百姓对生活舒适度和品味提升,新车市场将实现质的有效提升和量的合理增长,预计今年下半年好于上半年。\\\\r\\\\n7、在新能源汽车的销售比例增加的情况下,发动机和排气系统零部件业务应该如何去定位?\\\\r\\\\n答:排气系统:首先是新能源汽车(混动-油电),仍将会采用燃油箱,消声器,管件产品;重卡、工程机械、农业机械、排气系统仍有广阔的市场需求和顽强的生命力。公司在保持原有业务的基础上,针对新能源汽车方面正积极拓展电池包框架、电容壳,氢燃料消声器等产品。\\\\r\\\\n8、请问贵司对2030年的中长期成长战略是如何布局的?\\\\r\\\\n答:未来公司将重点布局:1、围绕轴承和标准(新能源)底盘两大硬核,开拓新的轴承领域;2、围绕底盘智控系统的线控制动以及主动悬架系统进行新产品研发立项;3、启动万向钱潮汽车零部件数智产业新基地项目,以技术钱潮为主线,以创新发展、行业领先、绿色可持续、国内外联动为愿景,围绕轴承和底盘两大硬核产业进行产业布局。\\\\r\\\\n9、您如何看待日本品牌的汽车制造商以及日系汽车的优势?\\\\r\\\\n答:日本汽车品牌在全球范围内享有很高的知名度和声誉。例如,丰田、本田、尼桑等品牌在全球市场上都拥有广泛的客户基础。日本汽车制造商在国际汽车市场中有着很高的地位和影响力,其高品质、高可靠性、先进技术和环保意识等方面的表现让他们在全球范围内受到广泛认可。日系汽车的优点包括质量可靠、技术创新、燃油经济性和驾驶舒适性等。\\\\r\\\\n10、贵司在轴承的市场占有率如何、以及友商的情况如何?新能源汽车的崛起对轴承产业的影响如何?\\\\r\\\\n答:公司的主导产品在细分市场仍占据主导地位,其中万向节市场占有率全球第一。围绕新能源汽车市场,高速轴承、滚柱丝杠轴承、圆锥轮毂单元等的需求量增加,公司目前在积极加大对这些产品的研发、生产等各项工作的投入。', 'ORG_TYPE': '证券公司'}\", start_char_idx=None, end_char_idx=None, text_template='{metadata_str}\\n\\n{content}', metadata_template='{key}: {value}', metadata_seperator='\\n'), score=0.3932241951769482), NodeWithScore(node=TextNode(id_='4b68149c-c183-495c-b07c-715009a90438', embedding=None, metadata={}, excluded_embed_metadata_keys=[], excluded_llm_metadata_keys=[], relationships={}, text=\"{'SECUCODE': '002594.SZ', 'SECURITY_CODE': '002594', 'SECURITY_NAME_ABBR': '比亚迪', 'NOTICE_DATE': datetime.datetime(2023, 9, 11, 0, 0), 'RECEIVE_START_DATE': datetime.datetime(2023, 9, 8, 0, 0), 'RECEIVE_END_DATE': datetime.datetime(2023, 9, 8, 0, 0), 'RECEIVE_OBJECT': '中信证券', 'RECEIVE_PLACE': '比亚迪六角大楼', 'RECEIVE_WAY_EXPLAIN': '特定对象调研', 'INVESTIGATORS': None, 'RECEPTIONIST': '吴越,常恩铭', 'NUM': 1, 'CONTENT': '问题一:海豹在补能方面有哪些技术?\\\\n\\\\n答:海豹采用全球首创的高电压电驱升压充电方案,该技术实现了宽域恒功率充电,满足300V-750V电压范围充电桩大功率直流充电,可实现充电15分钟,行驶300km,大幅减少用户充电等待时间。\\\\n\\\\n问题二:云辇有哪些领先的技术?\\\\n\\\\n答:云辇技术作为全球首个新能源专属的智能车身控制系统,打破碎片化的开发模式,系统化考量新能源汽车的垂向控制问题,以高智能、护安全、稳驾乘、全覆盖的技术优势,为用户带来兼顾舒适性与操控性的极致驾乘体验。云辇系统的产品矩阵包括云辇-C、云辇-A及云辇-P等,将陆续搭载于本集团各品牌车型,从舒适、操控、安全、越野等维度大幅提升消费者的驾乘体验。\\\\n\\\\n问题三:公司轨道交通业务进展?\\\\n\\\\n答:7月10日,比亚迪西安高新云巴项目首列云巴正式上线,这标志着该线路建设进入新阶段,为未来开通运营打下了良好的基础。西安高新云巴的建设为广大市民提供了更加高效、便捷的出行服务,进一步拉近了西安市西南部与主城区的时空距离,有力助推西安城市交通“畅行提速”。\\\\n\\\\n问题四:公司品牌矩阵规划?\\\\n\\\\n答:依托于本集团核心技术的持续迭代与创新,本集团乘用车业务逐步形成由比亚迪品牌、腾势品牌、仰望品牌及方程豹品牌所构建的多品牌梯度布局,覆盖从家用到豪华、从大众到个性化,全面满足用户多方位全场景的用车需求。\\\\n\\\\n问题五:比亚迪8月秦家族销量如何?\\\\n\\\\n答:8月秦家族热销45004辆,同比增长13.9%,累计销量超百万,实力领航新一代家轿市场。', 'ORG_TYPE': '证券公司'}\", start_char_idx=None, end_char_idx=None, text_template='{metadata_str}\\n\\n{content}', metadata_template='{key}: {value}', metadata_seperator='\\n'), score=0.38429113234916334), NodeWithScore(node=TextNode(id_='a8a6d6d4-69e9-4daa-9937-5f1a3d0fc476', embedding=None, metadata={}, excluded_embed_metadata_keys=[], excluded_llm_metadata_keys=[], relationships={}, text=\"{'SECUCODE': '001380.SZ', 'SECURITY_CODE': '001380', 'SECURITY_NAME_ABBR': '华纬科技', 'NOTICE_DATE': datetime.datetime(2023, 9, 18, 0, 0), 'RECEIVE_START_DATE': datetime.datetime(2023, 9, 15, 0, 0), 'RECEIVE_END_DATE': datetime.datetime(2023, 9, 15, 0, 0), 'RECEIVE_OBJECT': '银河证券', 'RECEIVE_PLACE': '公司会议室', 'RECEIVE_WAY_EXPLAIN': '特定对象调研,线下', 'INVESTIGATORS': '陈韦峰', 'RECEPTIONIST': None, 'NUM': 1, 'CONTENT': '1、公司订单增长快的原因是什么?\\\\r\\\\n\\\\r\\\\n答:公司发展主要得益于国内自主品牌的快速崛起,随着新能源汽车市占率的不断提升,公司订单量也随之增加。\\\\r\\\\n\\\\r\\\\n2、公司客户增量较明显的有哪些?\\\\r\\\\n\\\\r\\\\n答:既有如比亚迪、吉利、长城等主机厂,又有如一汽东机工、南阳淅减等减振器厂。\\\\r\\\\n\\\\r\\\\n3、吉利的份额有在往上走吗?\\\\r\\\\n\\\\r\\\\n答:对于吉利,前簧是供货给减振器厂,后簧是直接供货给吉利,仅按照后减市场来测算,吉利份额有小幅度提升。\\\\r\\\\n\\\\r\\\\n4、比亚迪稳定杆原先的供货商是谁?为什么会开始选择我们?\\\\r\\\\n\\\\r\\\\n答:中弹、慕贝尔等。不管是稳定杆还是悬架弹簧,都属于汽车底盘系统,其采购团队往往相同或相近,公司有很大的优势。公司稳定杆近些年一直在投入研发,今年开始上量,客户方面也会向我们倾斜。相对于外资品牌,公司在产品设计、开发的响应速度上更具优势。\\\\r\\\\n\\\\r\\\\n5、公司为什么选择在这个时间点开始做稳定杆业务?\\\\r\\\\n\\\\r\\\\n答:公司并非刚开始做稳定杆业务,只不过之前的量不大,近些年研发投入较多,今年开始上量。市场上做悬架弹簧的公司也往往会选择去做稳定杆,这是因为二者都属于底盘悬架系统。\\\\r\\\\n\\\\r\\\\n6、稳定杆研发、制造用了多久?客户在哪里?\\\\r\\\\n\\\\r\\\\n答:稳定杆从建厂到研发制造出第一款产品用了数年。稳定杆和弹簧都属弹性元件,客户重合度高,如比亚迪、吉利、长城等。\\\\r\\\\n\\\\r\\\\n7、现在稳定杆的市占率是多少?预期未来可以达到多少?\\\\r\\\\n\\\\r\\\\n答:市场暂无这方面的权威统计数据,根据公司自行测算,上半年市占率为7%左右。稳定杆尚处于起步阶段,待后续产能释放,市占率会进一步提升,预期达到与悬架弹簧类似的市占率。\\\\r\\\\n\\\\r\\\\n8、可以梳理一下稳定杆未来产能释放节奏吗?\\\\r\\\\n\\\\r\\\\n答:稳定杆产能会在今年第四季度开始逐步释放,并且第二期设备已经开始投入,第三期场地已有规划,具体情况根据客户给的量纲实施。\\\\r\\\\n\\\\r\\\\n9、稳定杆的单车价格是多少?\\\\r\\\\n\\\\r\\\\n答:传统燃油车的稳定杆单车价格在120-160元之间,新能源汽车因为整备质量高,所以其单车价格会有20%-30%的提升。10、稳定杆目前毛利率偏低,后面会上升吗?\\\\r\\\\n\\\\r\\\\n答:稳定杆前期处于研发投入阶段,涉及的开发周期长,研发费用高,这也导致了其毛利率不显。但今年稳定杆已开始量产,稳定杆收入是呈上升趋势,增量、增速非常快,并且还会继续增长。\\\\r\\\\n\\\\r\\\\n11、稳定杆毛利率的理论上限和弹簧相比如何?\\\\r\\\\n\\\\r\\\\n答:两者未来毛利率相近。\\\\r\\\\n\\\\r\\\\n12、目前弹簧的产能是多少?后续河南规划多少万,浙江规划多少万?\\\\r\\\\n\\\\r\\\\n答:2022年悬架弹簧和制动簧的产能为2470万件,募投项目中河南华纬规划500万件悬架弹簧,本部规划550万件悬架弹簧、350万件制动簧以及7100万只阀类及异形弹簧。\\\\r\\\\n\\\\r\\\\n13、公司原材料采购周期和调价周期?\\\\r\\\\n\\\\r\\\\n答:钢厂端有两种采购模式,一种是锁定价格型的采购模式,一种是浮动制的采购模式。如果后续钢材价格上涨,公司会多在锁定价格型的采购模式中放量,如果后续钢材价格下跌,公司会多在浮动制的采购模式中放量。\\\\r\\\\n\\\\r\\\\n14、为什么钢厂会愿意跟我们有锁定价格的采购模式?\\\\r\\\\n\\\\r\\\\n答:公司在国内是弹簧钢最大的需求方之一。\\\\r\\\\n\\\\r\\\\n15、弹簧钢钢材和其他钢材区别大吗?\\\\r\\\\n\\\\r\\\\n答:大,弹簧钢属于特种钢,且是比较特殊的特种钢,其使用范围不广,但要求却非常高,其硬度、韧性都有要求。\\\\r\\\\n\\\\r\\\\n16、公司所在的行业存在技术壁垒吗?\\\\r\\\\n\\\\r\\\\n答:存在壁垒,公司通过和钢厂合研材料,在钢厂提供母料后,要达到预期效果还需要有公司的热处理技术,两者相辅相成的关系。材料不断地进化,我们的处理技术也在不停地进化。\\\\r\\\\n\\\\r\\\\n17、机器人弹簧公司有在涉足吗?\\\\r\\\\n\\\\r\\\\n答:公司弹簧有应用在工业机器人之中。\\\\r\\\\n\\\\r\\\\n18、制动簧是海外客户比较多吗?\\\\r\\\\n\\\\r\\\\n答:制动簧主要以海外客户为主,在世界排名前三大的制动器公司中国采购体系中,我司是主流供应商。\\\\r\\\\n\\\\r\\\\n19、制动簧的毛利率会高一点吗?\\\\r\\\\n\\\\r\\\\n答:制动簧的毛利率会稍高一点,因为有受到汇率的影响。\\\\r\\\\n\\\\r\\\\n20、三季度人民币贬值对公司的影响大吗?\\\\r\\\\n\\\\r\\\\n答:会有影响,但不会很大。出口产品主要是制动簧,从去年到今年受到产能挤压的影响,产能都给到悬架弹簧,所以目前制动簧同比没有增长。上半年公司汇兑收益为211万,公司也会进行一些方式来稳定汇率波动对公司的影响。', 'ORG_TYPE': '证券公司'}\", start_char_idx=None, end_char_idx=None, text_template='{metadata_str}\\n\\n{content}', metadata_template='{key}: {value}', metadata_seperator='\\n'), score=0.3842883836946212), NodeWithScore(node=TextNode(id_='9ae65b59-4e99-4f89-91ef-d9ea989602d4', embedding=None, metadata={}, excluded_embed_metadata_keys=[], excluded_llm_metadata_keys=[], relationships={}, text=\"{'SECUCODE': '688479.SH', 'SECURITY_CODE': '688479', 'SECURITY_NAME_ABBR': '友车科技', 'NOTICE_DATE': datetime.datetime(2023, 8, 31, 0, 0), 'RECEIVE_START_DATE': datetime.datetime(2023, 8, 1, 0, 0), 'RECEIVE_END_DATE': datetime.datetime(2023, 8, 31, 0, 0), 'RECEIVE_OBJECT': '华安基金', 'RECEIVE_PLACE': '友车科技会议室', 'RECEIVE_WAY_EXPLAIN': '特定对象调研', 'INVESTIGATORS': None, 'RECEPTIONIST': '董事会秘书 高海清,证券事务代表 喻慧娟', 'NUM': 1, 'CONTENT': '一、公司业务介绍。\\\\r\\\\n\\\\r\\\\n二、交流环节\\\\r\\\\n\\\\r\\\\n1、公司相较于国外竞争对手的优势体现在哪些方面?\\\\r\\\\n\\\\r\\\\n答:1、产品功能更加匹配国内车企经营模式\\\\r\\\\n\\\\r\\\\n国外汽车营销与后市场服务领域的经营模式及行业技术诀窍与国内差别较大。此外,在营销活动、管理模式等方面国内外车企的文化差异也较大。随着国内汽车行业的快速发展,国外软件产品不能很好的匹配国内车企经营模式的弊端愈加凸显,公司产品功能更加匹配国内车企经营模式。\\\\r\\\\n\\\\r\\\\n2、服务响应速度更快、能力更强\\\\r\\\\n\\\\r\\\\n国外软件厂商作为跨国企业,总部在境外,决策链条长。当客户临时提出改造或升级系统的需求时,国外软件厂商响应速度较慢,且时常发生无法满足客户定制化需求的情况。国内车企对服务响应速度和能力十分看重,公司在此方面具备明显优势。\\\\r\\\\n\\\\r\\\\n3、产品技术架构先进\\\\r\\\\n\\\\r\\\\n国外软件厂商早先在产品技术架构方面更为先进,但近年来国内龙头企业通过大量的研发投入和技术创新,已经在技术架构方面逐渐超越了国外软件厂商,而国外软件厂商在底层技术升级等方面布局较慢,已无法满足国内汽车市场快速多变的需求。\\\\r\\\\n\\\\r\\\\n2、公司软件出海的发展情况\\\\r\\\\n\\\\r\\\\n答:目前公司来自境外客户的收入主要集中在东南亚地区。公司将积极把握我国车企全球化发展机遇,参与国外车企在营销与后市场服务领域相关软件产品及云服务的建设项目,加大海外市场开拓力度。\\\\r\\\\n\\\\r\\\\n3、公司汽车产业生态服务平台业务规模占比较小,未来如何发展?\\\\r\\\\n\\\\r\\\\n答:公司汽车产业生态服务平台业务刚刚起步,收入仍在百万级,公司将持续优化目前平台中的服务内容,拓展服务使用群体数量,同时开发涉及营销引流、车主社交互动、移动出行、乃至车生活的各类汽车产业生态增值服务,覆盖更多的车企和车主的需求场景。\\\\r\\\\n\\\\r\\\\n当公司能够提供的增值生态服务种类不断增加,使用公司提供服务的用户数不断增长,该业务的收入规模就有望实现快速增长。\\\\r\\\\n\\\\r\\\\n4、公司车主服务平台的业务模式是怎样的?\\\\r\\\\n\\\\r\\\\n答:公司向车企实施交付车主服务平台,协助车企通过该平台直接触达终端车主,并在平台内向车主提供服务,从而更好的了解车主需求,提升对用户营销、运营和管理能力。车主服务平台既是一个聚合了各类汽车相关专业服务的载体,也是一个车主可以随时随地在平台的数字触点上(如车主APP)发起服务需求的渠道及入口。\\\\r\\\\n\\\\r\\\\n车主服务平台覆盖多种客户终端触点,包括微信公众号、小程序、APP等,并利用OneID统一管理,保证用户多平台、跨场景体验的一致性,提升用户的服务体验。该产品可通过对接车企营销系统以及汽车产业生态服务平台来扩充该产品中聚合的服务种类,帮助车企在高频需求场景中提升和车主互动的频次,同时满足车主获取汽车相关专业服务的需求。该产品可以帮助车企的营销推广由单向传播向社交裂变转变,进一步发掘营销、服务机会场景,实现业务转化和服务输出。\\\\r\\\\n\\\\r\\\\n5、公司的市场地位如何?\\\\r\\\\n\\\\r\\\\n答:公司迄今为止服务的整车厂近百家,经销商超过1.5万家,已覆盖国内绝大多数主流车企,业务渗透率逐步提升,行业地位突出,市场认可度高,是国内汽车营销与后市场服务领域软件产品及云服务提供商中的龙头企业。', 'ORG_TYPE': '基金管理公司'}\", start_char_idx=None, end_char_idx=None, text_template='{metadata_str}\\n\\n{content}', metadata_template='{key}: {value}', metadata_seperator='\\n'), score=0.3809105952882813), NodeWithScore(node=TextNode(id_='e7158792-ef60-409d-993e-41207c6df6c3', embedding=None, metadata={}, excluded_embed_metadata_keys=[], excluded_llm_metadata_keys=[], relationships={}, text=\"{'SECUCODE': '001380.SZ', 'SECURITY_CODE': '001380', 'SECURITY_NAME_ABBR': '华纬科技', 'NOTICE_DATE': datetime.datetime(2023, 5, 23, 0, 0), 'RECEIVE_START_DATE': datetime.datetime(2023, 5, 22, 0, 0), 'RECEIVE_END_DATE': datetime.datetime(2023, 5, 22, 0, 0), 'RECEIVE_OBJECT': '上海证券', 'RECEIVE_PLACE': '公司会议室', 'RECEIVE_WAY_EXPLAIN': '特定对象调研,线下', 'INVESTIGATORS': '王琎', 'RECEPTIONIST': None, 'NUM': 1, 'CONTENT': '1、与其他竞争对手相比,公司的成本优势、价格优势在哪?\\\\n\\\\n答:体现在公司对热处理技术的经验积累。与钢厂联合开发高强度定制性材料,实现高强度材料的批量应用,对整车的轻量化有巨大的贡献,提高市场竞争能力。\\\\n\\\\n2、和钢厂联合开发,是否有专业壁垒?\\\\n\\\\n答:存在壁垒,公司从钢厂获得材料,但要达到预期效果还需要有公司的热处理技术,两者相辅相成的关系。材料不断地进化,我们的处理技术也在不停地进化。\\\\n\\\\n3、我们的竞争对手,比如像MW,或者其他几家他们现在的扩张态势是怎么样的?\\\\n\\\\n答:MW是在收缩的。慕贝尔和蒂森克虏伯在中国市场是在有扩张的,这两家之前都是依附于外资品牌,而这两年中国崛起的是自主品牌。\\\\n\\\\n4、公司单车价值是多少,新能源车较传统车单车价值提升多少?\\\\n\\\\n答:悬架弹簧单车价值在130-200元左右,稳定杆在120-160左右,新能源较传统汽车的单车价值有20-30%的提升,原因是车辆的整备质量增加,需要更高强度弹簧的性能来支撑。\\\\n\\\\n5、公司在比亚迪的份额是多少?\\\\n\\\\n答:弹簧份额在70%左右,稳定杆刚开始量产。\\\\n\\\\n6、看到公司过去两年毛利比较低,与竞争对手之间是否有发起价格战?\\\\n\\\\n答:2021年毛利率低主要是材料上涨所致。能看到数据的我们的同行业毛利也是比较低的。价格战并不是刚出现的,是一直存在的。\\\\n\\\\n7、比亚迪的其他供应商有哪些?\\\\n\\\\n答:蒂森克虏伯、慕贝尔、中弹、美力科技等。\\\\n\\\\n8、未来3-5年的增量主要表现在哪?\\\\n\\\\n答:主要在比亚迪、吉利、理想这些客户上。\\\\n\\\\n9、募投的投产达产时间如何?\\\\n\\\\n答:新增8000万只各类高性能弹簧及表面处理技改项目预计在2023年第四季度有部分产能释放,最终在2024年度的第三或第四季度全部产能释放。高精度新能源汽车悬架弹簧智能化生产线项目预计在2024年第一季度有部分产能释放,最终在2025年的第一季度全部建设完成。\\\\n\\\\n10、公司增速上看比较快,那怎么看利润率的表现?\\\\n\\\\n答:去年在受疫情影响的情况下,产能利用率已达93%,今年在没有这个因素的影响下,营收上比较乐观。\\\\n\\\\n11、跟外资比,我们要替代他们在主机厂的优势,除了材料,其他哪些方面可以替代他们?\\\\n\\\\n答:公司以底层技术为核心,进行自身的不断地产业升级,技术升级。材料的研发是不容易被超越的。相比外资,我们在管理升级上需要不断地完善,需要向他们学习。\\\\n\\\\n12、金总作为二代接班,是怎么考虑这个问题的?\\\\n\\\\n答:当初接班也比较突然,因为父亲身体原因,当时进行的紧急接班。其次从小在父亲身边耳濡目染,听了很多家国情怀的事迹,所以不管于公于私,作为接班人都应该继续做下去。而且我们的团队也很优秀,是一同和父亲一起打拼出来的。\\\\n\\\\n13、怎么看待空气弹簧?\\\\n\\\\n答:钢制弹簧和空气弹簧各有优缺点,盲测基本感受不出两者之间的区别。两者应用场景适用不同,受众群体不同。\\\\n\\\\n14、公司有在跟特斯拉接触吗?\\\\n\\\\n答:目前没有合作,处于交流接触阶段。\\\\n\\\\n15、公司在商用车市场如何?\\\\n\\\\n答:在世界排名前三大的制动器公司中国采购体系中,我司是主流供应商。\\\\n\\\\n16、美力科技毛利较低,我们毛利能高于同业的原因是?\\\\n\\\\n答:一方面,公司的产业链更长,我们的原材料自己加工。美力科技自身近几年收购较多,拉低了产能利用率。另一方面我们之间的赛道不同,我们主要给国内自主品牌配套,美力科技主要是韩系车配套。', 'ORG_TYPE': '证券公司'}\", start_char_idx=None, end_char_idx=None, text_template='{metadata_str}\\n\\n{content}', metadata_template='{key}: {value}', metadata_seperator='\\n'), score=0.3803428502005004), NodeWithScore(node=TextNode(id_='994862f3-c0b1-411f-a3a1-23ca8110392e', embedding=None, metadata={}, excluded_embed_metadata_keys=[], excluded_llm_metadata_keys=[], relationships={}, text=\"{'SECUCODE': '833346.BJ', 'SECURITY_CODE': '833346', 'SECURITY_NAME_ABBR': '威贸电子', 'NOTICE_DATE': datetime.datetime(2023, 11, 27, 0, 0), 'RECEIVE_START_DATE': datetime.datetime(2023, 11, 27, 0, 0), 'RECEIVE_END_DATE': None, 'RECEIVE_OBJECT': '西南证券', 'RECEIVE_PLACE': None, 'RECEIVE_WAY_EXPLAIN': '网络调研', 'INVESTIGATORS': None, 'RECEPTIONIST': '副总经理、董事会秘书 周威迪', 'NUM': 1, 'CONTENT': '问题一:国内零配件厂商的开发与车企的同步程度是否更高,在满足自身毛利率的同时,更快的响应速度、更具竞争力的价格等优势,是否可以直接提高下游客户的竞争力?\\\\n\\\\n回答:目前新能源汽车的更新、发布以及技术迭代都非常快,这势必对零配件供应商的研发能力和响应速度提出了更高的要求。最近几年确实有了更多国内汽车领域的客户开始找我们寻求合作,国内的汽车零部件厂商逐步打破了外资的技术壁垒,以更快的响应速度和成本控制能力占据市场,快速跟上新能源车企的需求和发展。\\\\n\\\\n同时因为我们本身与一些外资的主机厂Tier1供应商有合作,不少车企也存在国产化的需求,由于我们既有能与国外供应商抗衡的技术能力,又有比较好的成本控制和国产化经验,也比较受到这类客户的青睐。\\\\n\\\\n问题二:公司今年和明年的主要增长点在哪些领域?在汽车线束行业内目前有哪些具有代表性的客户?是否可以例举具体的应用场景?\\\\n\\\\n回答:公司今年及明年有不少新增项目,包括了新能源汽车、智能家电和工业自动化领域。今年以来公司的研发团队一直马不停蹄在进行新项目的研发工作。23年有一部分项目已经开始逐步量产,比如福维克的扫地机器人项目、赛博的挂烫式电熨斗组件项目等。我们在智能家电领域持续推进集成化、组件化的策略,产品单价得到大幅提高。汽车领域有均胜的充电模块项目,终端客户包括名爵、智己、大众ID系列等,将为公司带来可观的销售贡献。同时在工业自动化领域,如菲斯曼已经有两个项目实现小批量量产,同时也有几个新项目在开发中。\\\\n\\\\n我公司在汽车领域耕耘多年,主要与国内外主机厂的一级供应商展开直接合作。近年来开发了如奔驰C级车尾灯、奇瑞汽车天窗线束、极氪001自动感应车门电子总成、长安汽车新一代动力总成HE15/ME15电子真空泵等项目,涵盖各类高低压线束产品。公司近几年在新能源汽车领域持续发力,与均胜电子及国内新能源汽车头部企业也展开持续合作,部分项目已在今年实现逐步量产,预计明年将有更多项目进一步推进。\\\\n\\\\n问题三:新能源车高压电气平台对线束的要求是什么样的?公司在此方面的技术优势在哪里?\\\\n\\\\n回答:新能源汽车高压线束是指连接电池和电机的高压电线组成的线束,它承载着电能传输和控制信号传输的任务,是新能源汽车电力传输系统的核心组成部分之一。新能源汽车高压线束的工作电压一般在400V以上,相对于传统汽车的12V工作电压来说,需要更高的安全性和可靠性。首先高压线束需要有很好的绝缘性能和电气安全性,因为要承受高电压。第二由于新能源汽车电机和电池要在高温环境下工作,需要良好的耐高温性能和导热性能。除此之外,还需要较好的耐磨损和耐腐蚀性,去承受一定的外力作用和潮湿环境。\\\\n\\\\n高压线束的材料和制造工艺通常需要经过严格的认证和测试,公司不但参与了“电动汽车用高压大电流线束和连接器技术要求”国家标准的起草,更投入了大量研发资源对高压线束的工艺、材料等技术进行研发,确保了高压线束的高可靠性与安全性。\\\\n\\\\n问题四:请问公司今年研发投入的主要方向有哪些?\\\\n\\\\n回答:公司今年的研发的一个重点是在新能源领域,主要包括新能源高压线束、充电枪及塑料组件的研发。随着新能源汽车的发展,新能源高压线束中对连接、端子压接等的要求越来越高,公司一直在跟随市场动向深入研发;充电枪及塑料组件方面,从最早的400伏到如今的800伏,新能源汽车对充电电压的需求越来越高,公司从元器件、芯片、PDU、散热、电线重量等方面逐步改进升级,满足客户的需求。\\\\n\\\\n另外,在家电方面,受益于后疫情时代社交需求的井喷式爆发,公司电熨斗组件业务持续快速增长。目前公司有多个挂烫式电熨斗集成组件项目研发中。\\\\n\\\\n在工业上面,受益于俄乌战争后能源价格高涨,欧洲开始大理推广热泵与太阳能来替代传统天然气能源。公司与德国菲斯曼在热泵、太阳能和储能系统上开展了全方位的合作,为其德国、法国、中国、越南等工厂研发并生产线束与集成组件产品。\\\\n\\\\n问题五:请问新能源汽车单车线束的平均价值比传统汽车单车线束多多少?\\\\n\\\\n回答:传统汽车行业单车线束依据不同品牌和型号,总价值约在2000至5000元左右,新能源汽车因包含高压线束,而传统汽车不包含,所以新能源汽车线束总价会远超过传统汽车线束的价值。同时新能源汽车里很多功能都是集成化模块,模块之间的连接对动力传输、数据传输的要求更高,单根线束会越来越复杂,因此单价会提高,新能源汽车整体的线束价值也会比较高。\\\\n\\\\n问题六:公司此前披露过和国内某新能源头部车企的合作,请问项目进展情况如何?回答:该项目前期已完成测试,逐步开始批量供应,目前处于产能爬坡阶段。这是一个全系标配项目,主要使用在新能源汽车的空调压缩机里,以这个项目为切入点,我们也在争取与客户进行其他线束及注塑组件项目的合作。该项目生命周期约为5年,全生命周期总金额约为2.6亿元。随着该客户在国内外市场的快速发展,希望未来能为公司带来更多优质项目。\\\\n\\\\n问题七:请问刺破式连接器的应用场景有哪些,它的优势是什么?在汽车电子领域内是否应用比较广泛呢?\\\\n\\\\n回答:传统连接器与PCB板是通过插座垂直连接,刺破式连接器是直接插在PCB板旁边,可以最大化节约空间。目前刺破式接连器在汽车上应用最广泛的是尾灯,因汽车尾灯空间比较小,所以对连接器的要求比较高。公司拥有先进的德国LumbergIDC刺破式连接器线束自动生产线,现阶段主要供应奔驰C级系列的尾灯。同时,很多汽车品牌都采用相同的技术路线,刺破式连接器在车灯行业占有优势,所以应用比较广泛。', 'ORG_TYPE': '证券公司'}\", start_char_idx=None, end_char_idx=None, text_template='{metadata_str}\\n\\n{content}', metadata_template='{key}: {value}', metadata_seperator='\\n'), score=0.37491735766158407)], metadata={'cc0bb39c-f05c-47a5-81e0-f592486d0bc7': {}, '088440fd-a16f-4a82-a3cd-0b5e5c2e5930': {}, '4b68149c-c183-495c-b07c-715009a90438': {}, 'a8a6d6d4-69e9-4daa-9937-5f1a3d0fc476': {}, '9ae65b59-4e99-4f89-91ef-d9ea989602d4': {}, 'e7158792-ef60-409d-993e-41207c6df6c3': {}, '994862f3-c0b1-411f-a3a1-23ca8110392e': {}})"
      ]
     },
     "execution_count": 53,
     "metadata": {},
     "output_type": "execute_result"
    }
   ],
   "source": [
    "response"
   ]
  }
 ],
 "metadata": {
  "kernelspec": {
   "display_name": "rag",
   "language": "python",
   "name": "python3"
  },
  "language_info": {
   "codemirror_mode": {
    "name": "ipython",
    "version": 3
   },
   "file_extension": ".py",
   "mimetype": "text/x-python",
   "name": "python",
   "nbconvert_exporter": "python",
   "pygments_lexer": "ipython3",
   "version": "3.10.13"
  }
 },
 "nbformat": 4,
 "nbformat_minor": 2
}
