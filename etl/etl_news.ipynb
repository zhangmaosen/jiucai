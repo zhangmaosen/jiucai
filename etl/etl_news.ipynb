{
 "cells": [
  {
   "cell_type": "code",
   "execution_count": 3,
   "metadata": {},
   "outputs": [],
   "source": [
    "import numpy as np\n",
    "import pandas as pd\n",
    "\n",
    "file_full_name = '/home/userroot/dev/jiucai/crawl/stock_report/data/news.jsonl'\n",
    "df = pd.read_json(file_full_name, lines=True)"
   ]
  },
  {
   "cell_type": "code",
   "execution_count": 9,
   "metadata": {},
   "outputs": [
    {
     "data": {
      "text/plain": [
       "0        20240227\n",
       "1        20240227\n",
       "2        20240227\n",
       "3        20240227\n",
       "4        20240227\n",
       "           ...   \n",
       "16718    20230524\n",
       "16719    20230524\n",
       "16720    20230524\n",
       "16721    20230524\n",
       "16722    20230524\n",
       "Name: url, Length: 16723, dtype: object"
      ]
     },
     "execution_count": 9,
     "metadata": {},
     "output_type": "execute_result"
    }
   ],
   "source": [
    "df['url'].apply(lambda x: x.split('/')[-1][0:8])"
   ]
  },
  {
   "cell_type": "code",
   "execution_count": 10,
   "metadata": {},
   "outputs": [],
   "source": [
    "df.insert(0, 'date', df['url'].apply(lambda x: x.split('/')[-1][0:8]),True)"
   ]
  },
  {
   "cell_type": "code",
   "execution_count": 11,
   "metadata": {},
   "outputs": [
    {
     "data": {
      "text/html": [
       "<div>\n",
       "<style scoped>\n",
       "    .dataframe tbody tr th:only-of-type {\n",
       "        vertical-align: middle;\n",
       "    }\n",
       "\n",
       "    .dataframe tbody tr th {\n",
       "        vertical-align: top;\n",
       "    }\n",
       "\n",
       "    .dataframe thead th {\n",
       "        text-align: right;\n",
       "    }\n",
       "</style>\n",
       "<table border=\"1\" class=\"dataframe\">\n",
       "  <thead>\n",
       "    <tr style=\"text-align: right;\">\n",
       "      <th></th>\n",
       "      <th>date</th>\n",
       "      <th>news</th>\n",
       "      <th>url</th>\n",
       "    </tr>\n",
       "  </thead>\n",
       "  <tbody>\n",
       "    <tr>\n",
       "      <th>0</th>\n",
       "      <td>20240227</td>\n",
       "      <td>1、央视网：国务院以“建立健全公平竞争制度，加快完善全国统一大市场基础制度规则”为主题，...</td>\n",
       "      <td>https://finance.eastmoney.com/a/20240227299515...</td>\n",
       "    </tr>\n",
       "    <tr>\n",
       "      <th>1</th>\n",
       "      <td>20240227</td>\n",
       "      <td>2、工信部：印发《工业领域数据安全能力提升实施方案（2024-2026年）》。围绕提升工...</td>\n",
       "      <td>https://finance.eastmoney.com/a/20240227299515...</td>\n",
       "    </tr>\n",
       "    <tr>\n",
       "      <th>2</th>\n",
       "      <td>20240227</td>\n",
       "      <td>3、商务部：美国近日以涉俄因素制裁多家中国企业。对此，商务部新闻发言人表示，美方做法是典...</td>\n",
       "      <td>https://finance.eastmoney.com/a/20240227299515...</td>\n",
       "    </tr>\n",
       "    <tr>\n",
       "      <th>3</th>\n",
       "      <td>20240227</td>\n",
       "      <td>4、科创板日报：2024年世界移动通信大会（MWC 2024）在西班牙巴塞罗那开幕。本次...</td>\n",
       "      <td>https://finance.eastmoney.com/a/20240227299515...</td>\n",
       "    </tr>\n",
       "    <tr>\n",
       "      <th>4</th>\n",
       "      <td>20240227</td>\n",
       "      <td>5、财联社：近期，多家上市券商及券商参控股上市公司披露了回购注销、回购进展或回购预案等公...</td>\n",
       "      <td>https://finance.eastmoney.com/a/20240227299515...</td>\n",
       "    </tr>\n",
       "    <tr>\n",
       "      <th>...</th>\n",
       "      <td>...</td>\n",
       "      <td>...</td>\n",
       "      <td>...</td>\n",
       "    </tr>\n",
       "    <tr>\n",
       "      <th>16718</th>\n",
       "      <td>20230524</td>\n",
       "      <td>欧洲央行管委Nagel：欧洲央行的利率将维持在限制性区域相当长一段时间；欧洲央行仍需要几...</td>\n",
       "      <td>https://finance.eastmoney.com/a/20230524273022...</td>\n",
       "    </tr>\n",
       "    <tr>\n",
       "      <th>16719</th>\n",
       "      <td>20230524</td>\n",
       "      <td>央视新闻：西班牙人口第一季度增加了13.69万人，总人口增至4819.67万人，达到历史...</td>\n",
       "      <td>https://finance.eastmoney.com/a/20230524273022...</td>\n",
       "    </tr>\n",
       "    <tr>\n",
       "      <th>16720</th>\n",
       "      <td>20230524</td>\n",
       "      <td>央行：4月份，债券市场共发行各类债券62153.6亿元，银行间债券市场现券成交24.4万...</td>\n",
       "      <td>https://finance.eastmoney.com/a/20230524273022...</td>\n",
       "    </tr>\n",
       "    <tr>\n",
       "      <th>16721</th>\n",
       "      <td>20230524</td>\n",
       "      <td>国债：5月23日，2年期国债期货主力合约TS2309上行0.08%，至101.155；5...</td>\n",
       "      <td>https://finance.eastmoney.com/a/20230524273022...</td>\n",
       "    </tr>\n",
       "    <tr>\n",
       "      <th>16722</th>\n",
       "      <td>20230524</td>\n",
       "      <td>Shibor：5月23日，隔夜shibor报1.2240%，下跌5.2个基点；7天shi...</td>\n",
       "      <td>https://finance.eastmoney.com/a/20230524273022...</td>\n",
       "    </tr>\n",
       "  </tbody>\n",
       "</table>\n",
       "<p>16723 rows × 3 columns</p>\n",
       "</div>"
      ],
      "text/plain": [
       "           date                                               news  \\\n",
       "0      20240227  　　1、央视网：国务院以“建立健全公平竞争制度，加快完善全国统一大市场基础制度规则”为主题，...   \n",
       "1      20240227  　　2、工信部：印发《工业领域数据安全能力提升实施方案（2024-2026年）》。围绕提升工...   \n",
       "2      20240227  　　3、商务部：美国近日以涉俄因素制裁多家中国企业。对此，商务部新闻发言人表示，美方做法是典...   \n",
       "3      20240227  　　4、科创板日报：2024年世界移动通信大会（MWC 2024）在西班牙巴塞罗那开幕。本次...   \n",
       "4      20240227  　　5、财联社：近期，多家上市券商及券商参控股上市公司披露了回购注销、回购进展或回购预案等公...   \n",
       "...         ...                                                ...   \n",
       "16718  20230524  　　欧洲央行管委Nagel：欧洲央行的利率将维持在限制性区域相当长一段时间；欧洲央行仍需要几...   \n",
       "16719  20230524  　　央视新闻：西班牙人口第一季度增加了13.69万人，总人口增至4819.67万人，达到历史...   \n",
       "16720  20230524  　　央行：4月份，债券市场共发行各类债券62153.6亿元，银行间债券市场现券成交24.4万...   \n",
       "16721  20230524  　　国债：5月23日，2年期国债期货主力合约TS2309上行0.08%，至101.155；5...   \n",
       "16722  20230524  　　Shibor：5月23日，隔夜shibor报1.2240%，下跌5.2个基点；7天shi...   \n",
       "\n",
       "                                                     url  \n",
       "0      https://finance.eastmoney.com/a/20240227299515...  \n",
       "1      https://finance.eastmoney.com/a/20240227299515...  \n",
       "2      https://finance.eastmoney.com/a/20240227299515...  \n",
       "3      https://finance.eastmoney.com/a/20240227299515...  \n",
       "4      https://finance.eastmoney.com/a/20240227299515...  \n",
       "...                                                  ...  \n",
       "16718  https://finance.eastmoney.com/a/20230524273022...  \n",
       "16719  https://finance.eastmoney.com/a/20230524273022...  \n",
       "16720  https://finance.eastmoney.com/a/20230524273022...  \n",
       "16721  https://finance.eastmoney.com/a/20230524273022...  \n",
       "16722  https://finance.eastmoney.com/a/20230524273022...  \n",
       "\n",
       "[16723 rows x 3 columns]"
      ]
     },
     "execution_count": 11,
     "metadata": {},
     "output_type": "execute_result"
    }
   ],
   "source": [
    "df"
   ]
  },
  {
   "cell_type": "code",
   "execution_count": 13,
   "metadata": {},
   "outputs": [
    {
     "data": {
      "text/plain": [
       "datetime.datetime(2017, 1, 1, 0, 0)"
      ]
     },
     "execution_count": 13,
     "metadata": {},
     "output_type": "execute_result"
    }
   ],
   "source": [
    "import datetime\n",
    "date_str = '20170101'\n",
    "datetime.datetime.strptime(date_str,'%Y%m%d')"
   ]
  },
  {
   "cell_type": "code",
   "execution_count": 15,
   "metadata": {},
   "outputs": [],
   "source": [
    "df ['date'] = df['date'].apply(lambda x: datetime.datetime.strptime(x,'%Y%m%d'))"
   ]
  },
  {
   "cell_type": "code",
   "execution_count": 16,
   "metadata": {},
   "outputs": [
    {
     "data": {
      "text/html": [
       "<div>\n",
       "<style scoped>\n",
       "    .dataframe tbody tr th:only-of-type {\n",
       "        vertical-align: middle;\n",
       "    }\n",
       "\n",
       "    .dataframe tbody tr th {\n",
       "        vertical-align: top;\n",
       "    }\n",
       "\n",
       "    .dataframe thead th {\n",
       "        text-align: right;\n",
       "    }\n",
       "</style>\n",
       "<table border=\"1\" class=\"dataframe\">\n",
       "  <thead>\n",
       "    <tr style=\"text-align: right;\">\n",
       "      <th></th>\n",
       "      <th>date</th>\n",
       "      <th>news</th>\n",
       "      <th>url</th>\n",
       "    </tr>\n",
       "  </thead>\n",
       "  <tbody>\n",
       "    <tr>\n",
       "      <th>0</th>\n",
       "      <td>2024-02-27</td>\n",
       "      <td>1、央视网：国务院以“建立健全公平竞争制度，加快完善全国统一大市场基础制度规则”为主题，...</td>\n",
       "      <td>https://finance.eastmoney.com/a/20240227299515...</td>\n",
       "    </tr>\n",
       "    <tr>\n",
       "      <th>1</th>\n",
       "      <td>2024-02-27</td>\n",
       "      <td>2、工信部：印发《工业领域数据安全能力提升实施方案（2024-2026年）》。围绕提升工...</td>\n",
       "      <td>https://finance.eastmoney.com/a/20240227299515...</td>\n",
       "    </tr>\n",
       "    <tr>\n",
       "      <th>2</th>\n",
       "      <td>2024-02-27</td>\n",
       "      <td>3、商务部：美国近日以涉俄因素制裁多家中国企业。对此，商务部新闻发言人表示，美方做法是典...</td>\n",
       "      <td>https://finance.eastmoney.com/a/20240227299515...</td>\n",
       "    </tr>\n",
       "    <tr>\n",
       "      <th>3</th>\n",
       "      <td>2024-02-27</td>\n",
       "      <td>4、科创板日报：2024年世界移动通信大会（MWC 2024）在西班牙巴塞罗那开幕。本次...</td>\n",
       "      <td>https://finance.eastmoney.com/a/20240227299515...</td>\n",
       "    </tr>\n",
       "    <tr>\n",
       "      <th>4</th>\n",
       "      <td>2024-02-27</td>\n",
       "      <td>5、财联社：近期，多家上市券商及券商参控股上市公司披露了回购注销、回购进展或回购预案等公...</td>\n",
       "      <td>https://finance.eastmoney.com/a/20240227299515...</td>\n",
       "    </tr>\n",
       "    <tr>\n",
       "      <th>...</th>\n",
       "      <td>...</td>\n",
       "      <td>...</td>\n",
       "      <td>...</td>\n",
       "    </tr>\n",
       "    <tr>\n",
       "      <th>16718</th>\n",
       "      <td>2023-05-24</td>\n",
       "      <td>欧洲央行管委Nagel：欧洲央行的利率将维持在限制性区域相当长一段时间；欧洲央行仍需要几...</td>\n",
       "      <td>https://finance.eastmoney.com/a/20230524273022...</td>\n",
       "    </tr>\n",
       "    <tr>\n",
       "      <th>16719</th>\n",
       "      <td>2023-05-24</td>\n",
       "      <td>央视新闻：西班牙人口第一季度增加了13.69万人，总人口增至4819.67万人，达到历史...</td>\n",
       "      <td>https://finance.eastmoney.com/a/20230524273022...</td>\n",
       "    </tr>\n",
       "    <tr>\n",
       "      <th>16720</th>\n",
       "      <td>2023-05-24</td>\n",
       "      <td>央行：4月份，债券市场共发行各类债券62153.6亿元，银行间债券市场现券成交24.4万...</td>\n",
       "      <td>https://finance.eastmoney.com/a/20230524273022...</td>\n",
       "    </tr>\n",
       "    <tr>\n",
       "      <th>16721</th>\n",
       "      <td>2023-05-24</td>\n",
       "      <td>国债：5月23日，2年期国债期货主力合约TS2309上行0.08%，至101.155；5...</td>\n",
       "      <td>https://finance.eastmoney.com/a/20230524273022...</td>\n",
       "    </tr>\n",
       "    <tr>\n",
       "      <th>16722</th>\n",
       "      <td>2023-05-24</td>\n",
       "      <td>Shibor：5月23日，隔夜shibor报1.2240%，下跌5.2个基点；7天shi...</td>\n",
       "      <td>https://finance.eastmoney.com/a/20230524273022...</td>\n",
       "    </tr>\n",
       "  </tbody>\n",
       "</table>\n",
       "<p>16723 rows × 3 columns</p>\n",
       "</div>"
      ],
      "text/plain": [
       "            date                                               news  \\\n",
       "0     2024-02-27  　　1、央视网：国务院以“建立健全公平竞争制度，加快完善全国统一大市场基础制度规则”为主题，...   \n",
       "1     2024-02-27  　　2、工信部：印发《工业领域数据安全能力提升实施方案（2024-2026年）》。围绕提升工...   \n",
       "2     2024-02-27  　　3、商务部：美国近日以涉俄因素制裁多家中国企业。对此，商务部新闻发言人表示，美方做法是典...   \n",
       "3     2024-02-27  　　4、科创板日报：2024年世界移动通信大会（MWC 2024）在西班牙巴塞罗那开幕。本次...   \n",
       "4     2024-02-27  　　5、财联社：近期，多家上市券商及券商参控股上市公司披露了回购注销、回购进展或回购预案等公...   \n",
       "...          ...                                                ...   \n",
       "16718 2023-05-24  　　欧洲央行管委Nagel：欧洲央行的利率将维持在限制性区域相当长一段时间；欧洲央行仍需要几...   \n",
       "16719 2023-05-24  　　央视新闻：西班牙人口第一季度增加了13.69万人，总人口增至4819.67万人，达到历史...   \n",
       "16720 2023-05-24  　　央行：4月份，债券市场共发行各类债券62153.6亿元，银行间债券市场现券成交24.4万...   \n",
       "16721 2023-05-24  　　国债：5月23日，2年期国债期货主力合约TS2309上行0.08%，至101.155；5...   \n",
       "16722 2023-05-24  　　Shibor：5月23日，隔夜shibor报1.2240%，下跌5.2个基点；7天shi...   \n",
       "\n",
       "                                                     url  \n",
       "0      https://finance.eastmoney.com/a/20240227299515...  \n",
       "1      https://finance.eastmoney.com/a/20240227299515...  \n",
       "2      https://finance.eastmoney.com/a/20240227299515...  \n",
       "3      https://finance.eastmoney.com/a/20240227299515...  \n",
       "4      https://finance.eastmoney.com/a/20240227299515...  \n",
       "...                                                  ...  \n",
       "16718  https://finance.eastmoney.com/a/20230524273022...  \n",
       "16719  https://finance.eastmoney.com/a/20230524273022...  \n",
       "16720  https://finance.eastmoney.com/a/20230524273022...  \n",
       "16721  https://finance.eastmoney.com/a/20230524273022...  \n",
       "16722  https://finance.eastmoney.com/a/20230524273022...  \n",
       "\n",
       "[16723 rows x 3 columns]"
      ]
     },
     "execution_count": 16,
     "metadata": {},
     "output_type": "execute_result"
    }
   ],
   "source": [
    "df"
   ]
  },
  {
   "cell_type": "code",
   "execution_count": 17,
   "metadata": {},
   "outputs": [],
   "source": [
    "df.to_parquet('./news.parquet')"
   ]
  }
 ],
 "metadata": {
  "kernelspec": {
   "display_name": "rag",
   "language": "python",
   "name": "python3"
  },
  "language_info": {
   "codemirror_mode": {
    "name": "ipython",
    "version": 3
   },
   "file_extension": ".py",
   "mimetype": "text/x-python",
   "name": "python",
   "nbconvert_exporter": "python",
   "pygments_lexer": "ipython3",
   "version": "3.10.13"
  }
 },
 "nbformat": 4,
 "nbformat_minor": 2
}
